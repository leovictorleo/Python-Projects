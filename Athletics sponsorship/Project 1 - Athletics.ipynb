{
 "cells": [
  {
   "cell_type": "markdown",
   "metadata": {},
   "source": [
    "## Imports / Libraries"
   ]
  },
  {
   "cell_type": "code",
   "execution_count": null,
   "metadata": {},
   "outputs": [],
   "source": [
    "from bs4 import BeautifulSoup \n",
    "from time import sleep \n",
    "import pandas as pd \n",
    "from selenium import webdriver \n",
    "import datetime\n",
    "import pandas as pd\n",
    "import numpy as np\n",
    "import matplotlib.pyplot as plt"
   ]
  },
  {
   "cell_type": "markdown",
   "metadata": {},
   "source": [
    "## Macro definition - Webscraping"
   ]
  },
  {
   "cell_type": "code",
   "execution_count": null,
   "metadata": {},
   "outputs": [],
   "source": [
    "def get_page(page):\n",
    "    url = f\"https://www.iaaf.org/world-rankings/overall-ranking/men?regionType=world&page={page}&rankDate=2019-08-27&limitByCountry=0\"\n",
    "    option = webdriver.ChromeOptions().add_argument('--incognito')\n",
    "    browser = webdriver.Chrome(executable_path='./chromedriver', options=option)  \n",
    "    browser.get(url)\n",
    "    sleep(5)\n",
    "    page_source = browser.page_source\n",
    "    soup = BeautifulSoup(page_source, 'html5lib')\n",
    "    browser.close()\n",
    "    return soup"
   ]
  },
  {
   "cell_type": "markdown",
   "metadata": {},
   "source": [
    "\n",
    "## Loop - Macro execution"
   ]
  },
  {
   "cell_type": "code",
   "execution_count": null,
   "metadata": {},
   "outputs": [],
   "source": [
    "iaaf_database = pd.DataFrame()\n",
    "\n",
    "for i in range(121):\n",
    "    temp = get_page(i+1)\n",
    "    \n",
    "    interesting_tds = ['Rank', 'Competitor', 'DOB', 'Nat', 'score', 'EventList']\n",
    "    Rank = list()\n",
    "    Competitor = list()\n",
    "    DOB = list()\n",
    "    Nat = list()\n",
    "    Score = list()\n",
    "    Eventlist = list()\n",
    "\n",
    "    for td in temp.find_all(\"td\"):\n",
    "        if td.get('data-th') == 'Rank':\n",
    "            Rank.append(td.text.strip())\n",
    "\n",
    "    for td in temp.find_all(\"td\"):\n",
    "        if td.get('data-th') == 'Competitor':\n",
    "            Competitor.append(td.text.strip())\n",
    "        \n",
    "    for td in temp.find_all(\"td\"):\n",
    "        if td.get('data-th') == 'DOB':\n",
    "            DOB.append(td.text.strip())\n",
    "        \n",
    "    for td in temp.find_all(\"td\"):\n",
    "        if td.get('data-th') == 'Nat':\n",
    "            Nat.append(td.text.strip())\n",
    "        \n",
    "    for td in temp.find_all(\"td\"):\n",
    "        if td.get('data-th') == 'score':\n",
    "            Score.append(td.text.strip())\n",
    "        \n",
    "    for td in temp.find_all(\"td\"):\n",
    "        if td.get('data-th') == 'EventList':\n",
    "            Eventlist.append(td.text.strip())\n",
    "            \n",
    "    data_athletes = {'Rank':Rank,'Competitor':Competitor,'DOB':DOB,'Nat':Nat,'Score':Score,'Eventlist':Eventlist}\n",
    "    data_athletes_df = pd.DataFrame(data=data_athletes)\n",
    "    iaaf_database = iaaf_database.append(data_athletes_df)\n",
    "    \n",
    "    # Printing dataframe length and the page # just done, for checking\n",
    "    print(len(iaaf_database))\n",
    "    print(\"page\", i+1, \"done\")\n",
    "\n",
    "#Storing the monthly data into a csv\n",
    "iaaf_database[\"DateRank\"] = datetime.date(2019, 8, 27)\n",
    "iaaf_database.to_csv(r'C:\\Users\\Victor Leo\\Desktop\\WeCloud - Python for Data Science\\Project 1\\iaaf_database_20190827.csv')"
   ]
  },
  {
   "cell_type": "markdown",
   "metadata": {},
   "source": [
    "## Compiling monthly scores into one dataset"
   ]
  },
  {
   "cell_type": "code",
   "execution_count": null,
   "metadata": {},
   "outputs": [],
   "source": [
    "january = pd.read_csv(\"C:/Users/Victor Leo/Desktop/WeCloud - Python for Data Science/Project 1/iaaf_database_20190129.csv\", parse_dates=['DOB','DateRank'])\n",
    "february = pd.read_csv(\"C:/Users/Victor Leo/Desktop/WeCloud - Python for Data Science/Project 1/iaaf_database_20190226.csv\", parse_dates=['DOB','DateRank'])\n",
    "march = pd.read_csv(\"C:/Users/Victor Leo/Desktop/WeCloud - Python for Data Science/Project 1/iaaf_database_20190326.csv\", parse_dates=['DOB','DateRank'])\n",
    "april = pd.read_csv(\"C:/Users/Victor Leo/Desktop/WeCloud - Python for Data Science/Project 1/iaaf_database_20190430.csv\", parse_dates=['DOB','DateRank'])\n",
    "may = pd.read_csv(\"C:/Users/Victor Leo/Desktop/WeCloud - Python for Data Science/Project 1/iaaf_database_20190528.csv\", parse_dates=['DOB','DateRank'])\n",
    "june = pd.read_csv(\"C:/Users/Victor Leo/Desktop/WeCloud - Python for Data Science/Project 1/iaaf_database_20190625.csv\", parse_dates=['DOB','DateRank'])\n",
    "july = pd.read_csv(\"C:/Users/Victor Leo/Desktop/WeCloud - Python for Data Science/Project 1/iaaf_database_20190730.csv\", parse_dates=['DOB','DateRank'])\n",
    "august = pd.read_csv(\"C:/Users/Victor Leo/Desktop/WeCloud - Python for Data Science/Project 1/iaaf_database_20190827.csv\", parse_dates=['DOB','DateRank'])\n",
    "\n",
    "# Appending all datasets\n",
    "complete = pd.concat([january,february,march,april,may,june,july,august], sort=False)\n",
    "complete = complete[[\"Rank\",\"Competitor\",\"DOB\",\"Nat\",\"Score\",\"Eventlist\",\"DateRank\"]]\n",
    "\n",
    "# Calculating the age in years\n",
    "complete[\"age\"] = complete[\"DateRank\"] - complete[\"DOB\"]\n",
    "complete[\"age\"] = complete[\"age\"]/np.timedelta64(1,'Y')\n",
    "\n",
    "# Calculating the number of events\n",
    "complete['Events']=complete['Eventlist'].str.split('[').str[0]\n",
    "complete['Events']=complete['Events'].str.replace(\",000\", \"000\")\n",
    "complete[\"number_events\"] = complete[\"Events\"].str.count(',') + 1\n"
   ]
  },
  {
   "cell_type": "markdown",
   "metadata": {},
   "source": [
    "## Descriptive analysis - Countries"
   ]
  },
  {
   "cell_type": "code",
   "execution_count": null,
   "metadata": {},
   "outputs": [],
   "source": [
    "# Descriptive tables\n",
    "complete.describe(include=\"all\")\n",
    "\n",
    "# Scores histogram\n",
    "complete[\"Score\"].hist()\n",
    "\n",
    "# Descriptives - Group by country - August/2019\n",
    "complete2 = complete[complete[\"DateRank\"]==\"2019-08-27\"]\n",
    "complete2.groupby(\"Nat\").aggregate({'Rank': 'count',\n",
    "                                   'age': 'mean',\n",
    "                                   'number_events': \"mean\",\n",
    "                                   'Score': ('mean','std','sum')}).sort_values(by=(\"Score\",\"sum\"), ascending=False).head(10)"
   ]
  },
  {
   "cell_type": "markdown",
   "metadata": {},
   "source": [
    "## Descriptive analysis - Athletes"
   ]
  },
  {
   "cell_type": "code",
   "execution_count": null,
   "metadata": {},
   "outputs": [],
   "source": [
    "complete2.sort_values(by=\"Score\", ascending=False)\n",
    "\n",
    "# Selcting top 5 athletes\n",
    "Kipchoge = complete[complete[\"Competitor\"]==\"Eliud KIPCHOGE\"]\n",
    "Lyles = complete[complete[\"Competitor\"]==\"Noah LYLES\"]\n",
    "Warholm = complete[complete[\"Competitor\"]==\"Karsten WARHOLM\"]\n",
    "Coleman = complete[complete[\"Competitor\"]==\"Christian COLEMAN\"]\n",
    "Walsh = complete[complete[\"Competitor\"]==\"Tomas WALSH\"]\n",
    "\n",
    "# Line plot - Top 5 athletes\n",
    "plt.plot( \"DateRank\", \"Score\", data=Kipchoge, marker='o', markerfacecolor='blue', markersize=12, color='blue', linewidth=4, label=\"Kipchoge\")\n",
    "plt.plot( \"DateRank\", \"Score\", data=Lyles, marker='o', markerfacecolor='red', markersize=12, color='red', linewidth=4, label=\"Lyles\")\n",
    "plt.plot( \"DateRank\", \"Score\", data=Warholm, marker='o', markerfacecolor='skyblue', markersize=12, color='skyblue', linewidth=4, label=\"Warholm\")\n",
    "plt.plot( \"DateRank\", \"Score\", data=Coleman, marker='o', markerfacecolor='green', markersize=12, color='green', linewidth=4, label=\"Coleman\")\n",
    "plt.plot( \"DateRank\", \"Score\", data=Walsh, marker='o', markerfacecolor='brown', markersize=12, color='brown', linewidth=4, label=\"Walsh\")\n",
    "plt.legend()"
   ]
  }
 ],
 "metadata": {
  "kernelspec": {
   "display_name": "Python 3",
   "language": "python",
   "name": "python3"
  },
  "language_info": {
   "codemirror_mode": {
    "name": "ipython",
    "version": 3
   },
   "file_extension": ".py",
   "mimetype": "text/x-python",
   "name": "python",
   "nbconvert_exporter": "python",
   "pygments_lexer": "ipython3",
   "version": "3.7.9"
  }
 },
 "nbformat": 4,
 "nbformat_minor": 2
}
