{
 "cells": [
  {
   "cell_type": "markdown",
   "metadata": {
    "id": "r_WiKGfOMQQw"
   },
   "source": [
    "# Prerequisites"
   ]
  },
  {
   "cell_type": "markdown",
   "metadata": {
    "id": "qG6UJIrUMj7C"
   },
   "source": [
    "## Software package needed for Spotipy"
   ]
  },
  {
   "cell_type": "code",
   "execution_count": 1,
   "metadata": {
    "colab": {
     "base_uri": "https://localhost:8080/"
    },
    "executionInfo": {
     "elapsed": 14090,
     "status": "ok",
     "timestamp": 1607355459828,
     "user": {
      "displayName": "Victor Leo Fonseca",
      "photoUrl": "https://lh3.googleusercontent.com/a-/AOh14GhgHT6O0gfsAr9GnTBg53iL5Dgs87nCcnOPJ-fWHw=s64",
      "userId": "08489366047488854961"
     },
     "user_tz": 300
    },
    "id": "d_Kdc5Afqeoi",
    "outputId": "aede04c3-1a35-4369-b0ec-783f42327175"
   },
   "outputs": [
    {
     "name": "stdout",
     "output_type": "stream",
     "text": [
      "Collecting spotipy\n",
      "  Downloading https://files.pythonhosted.org/packages/7a/cd/e7d9a35216ea5bfb9234785f3d8fa7c96d0e33999c2cb72394128f6b4cce/spotipy-2.16.1-py3-none-any.whl\n",
      "Requirement already satisfied, skipping upgrade: requests>=2.20.0 in /usr/local/lib/python3.6/dist-packages (from spotipy) (2.23.0)\n",
      "Requirement already satisfied, skipping upgrade: six>=1.10.0 in /usr/local/lib/python3.6/dist-packages (from spotipy) (1.15.0)\n",
      "Requirement already satisfied, skipping upgrade: idna<3,>=2.5 in /usr/local/lib/python3.6/dist-packages (from requests>=2.20.0->spotipy) (2.10)\n",
      "Requirement already satisfied, skipping upgrade: certifi>=2017.4.17 in /usr/local/lib/python3.6/dist-packages (from requests>=2.20.0->spotipy) (2020.11.8)\n",
      "Requirement already satisfied, skipping upgrade: urllib3!=1.25.0,!=1.25.1,<1.26,>=1.21.1 in /usr/local/lib/python3.6/dist-packages (from requests>=2.20.0->spotipy) (1.24.3)\n",
      "Requirement already satisfied, skipping upgrade: chardet<4,>=3.0.2 in /usr/local/lib/python3.6/dist-packages (from requests>=2.20.0->spotipy) (3.0.4)\n",
      "Installing collected packages: spotipy\n",
      "Successfully installed spotipy-2.16.1\n",
      "Collecting fsspec\n",
      "\u001b[?25l  Downloading https://files.pythonhosted.org/packages/a5/8b/1df260f860f17cb08698170153ef7db672c497c1840dcc8613ce26a8a005/fsspec-0.8.4-py3-none-any.whl (91kB)\n",
      "\u001b[K     |████████████████████████████████| 92kB 3.7MB/s \n",
      "\u001b[?25hInstalling collected packages: fsspec\n",
      "Successfully installed fsspec-0.8.4\n",
      "Collecting python-Levenshtein\n",
      "\u001b[?25l  Downloading https://files.pythonhosted.org/packages/42/a9/d1785c85ebf9b7dfacd08938dd028209c34a0ea3b1bcdb895208bd40a67d/python-Levenshtein-0.12.0.tar.gz (48kB)\n",
      "\u001b[K     |████████████████████████████████| 51kB 2.7MB/s \n",
      "\u001b[?25hRequirement already satisfied: setuptools in /usr/local/lib/python3.6/dist-packages (from python-Levenshtein) (50.3.2)\n",
      "Building wheels for collected packages: python-Levenshtein\n",
      "  Building wheel for python-Levenshtein (setup.py) ... \u001b[?25l\u001b[?25hdone\n",
      "  Created wheel for python-Levenshtein: filename=python_Levenshtein-0.12.0-cp36-cp36m-linux_x86_64.whl size=144803 sha256=9d927820cf5cce9b7e5c292cafd8bbce6966157015f5c26bb1624b83f23616ce\n",
      "  Stored in directory: /root/.cache/pip/wheels/de/c2/93/660fd5f7559049268ad2dc6d81c4e39e9e36518766eaf7e342\n",
      "Successfully built python-Levenshtein\n",
      "Installing collected packages: python-Levenshtein\n",
      "Successfully installed python-Levenshtein-0.12.0\n"
     ]
    }
   ],
   "source": [
    "#installing spotipy to perform queries against Spotify\n",
    "!pip install spotipy --upgrade\n",
    "!pip install fsspec\n",
    "!pip install python-Levenshtein"
   ]
  },
  {
   "cell_type": "markdown",
   "metadata": {
    "id": "3mLJcIInMskY"
   },
   "source": [
    "## Mount Google Drive"
   ]
  },
  {
   "cell_type": "code",
   "execution_count": 2,
   "metadata": {
    "colab": {
     "base_uri": "https://localhost:8080/"
    },
    "executionInfo": {
     "elapsed": 24082,
     "status": "ok",
     "timestamp": 1607355479170,
     "user": {
      "displayName": "Victor Leo Fonseca",
      "photoUrl": "https://lh3.googleusercontent.com/a-/AOh14GhgHT6O0gfsAr9GnTBg53iL5Dgs87nCcnOPJ-fWHw=s64",
      "userId": "08489366047488854961"
     },
     "user_tz": 300
    },
    "id": "_C8cgKFtdrzn",
    "outputId": "741b9bf5-e9ba-4c7f-8e6e-80fc3699c6b8"
   },
   "outputs": [
    {
     "name": "stdout",
     "output_type": "stream",
     "text": [
      "Mounted at /content/drive\n"
     ]
    }
   ],
   "source": [
    "from google.colab import drive\n",
    "drive.mount('/content/drive')"
   ]
  },
  {
   "cell_type": "markdown",
   "metadata": {
    "id": "WijUViTiM6b0"
   },
   "source": [
    "## Python Libraries used"
   ]
  },
  {
   "cell_type": "code",
   "execution_count": 4,
   "metadata": {
    "executionInfo": {
     "elapsed": 828,
     "status": "ok",
     "timestamp": 1607355482823,
     "user": {
      "displayName": "Victor Leo Fonseca",
      "photoUrl": "https://lh3.googleusercontent.com/a-/AOh14GhgHT6O0gfsAr9GnTBg53iL5Dgs87nCcnOPJ-fWHw=s64",
      "userId": "08489366047488854961"
     },
     "user_tz": 300
    },
    "id": "MHU6jfwqM1Et"
   },
   "outputs": [],
   "source": [
    "import pandas as pd\n",
    "import numpy as np\n",
    "import time\n",
    "import math\n",
    "\n",
    "from difflib import SequenceMatcher #used for comparing similarity of strings\n",
    "import Levenshtein \n",
    "\n",
    "import requests\n",
    "import json\n",
    "\n",
    "import spotipy\n",
    "from spotipy.oauth2 import SpotifyClientCredentials\n",
    "\n",
    "auth_manager = SpotifyClientCredentials('41f67e00313649c0962534596da52a38','2c885133946d4253b92f50e19bcd9308')\n",
    "sp = spotipy.Spotify(auth_manager=auth_manager)"
   ]
  },
  {
   "cell_type": "code",
   "execution_count": null,
   "metadata": {
    "id": "962JgXPyNFrs"
   },
   "outputs": [],
   "source": [
    "\n",
    "#this reads in the Kaggle data from the Shared Google Drive for the project\n",
    "df = pd.read_csv('/content/drive/My Drive/ML Group Project/Data Sets/data.csv')\n",
    "\n",
    "#print(df.loc[df['name']==\"Boom Boom Pow\"]['popularity'])"
   ]
  },
  {
   "cell_type": "markdown",
   "metadata": {
    "id": "VnviRgoXNmF2"
   },
   "source": [
    "# Reusable Functions "
   ]
  },
  {
   "cell_type": "markdown",
   "metadata": {
    "id": "nzbWuj84O6X6"
   },
   "source": [
    "## getFromSpotify"
   ]
  },
  {
   "cell_type": "markdown",
   "metadata": {
    "id": "xypPSRGZO-_j"
   },
   "source": [
    "This function is used for retrieving songs from Spotify by year"
   ]
  },
  {
   "cell_type": "code",
   "execution_count": null,
   "metadata": {
    "id": "UakJd6PNoPiG"
   },
   "outputs": [],
   "source": [
    "def getFromSpotify(year=2020):\n",
    "  sp_list = []\n",
    "\n",
    "  #extract songs by release year\n",
    "  for count in range(40):\n",
    "    try:\n",
    "      sInfo = sp.search(q='year:\"'+str(year)+'\"',\n",
    "                        type='track',\n",
    "                        limit=50,offset=50*count)\n",
    "      for a in sInfo['tracks']['items']:\n",
    "        dict1={}\n",
    "        dict1['name'] = a['name']\n",
    "        dict1['artist_name'] = a['artists'][0]['name']\n",
    "        dict1['track_id'] = a['id']\n",
    "        dict1['track_number'] = a['track_number']\n",
    "        dict1['popularity'] = a['popularity']\n",
    "        dict1['release_date'] = a['album']['release_date']\n",
    "        sp_list.append(dict1)\n",
    "    except Exception as e:\n",
    "      break\n",
    "  \n",
    "  return sp_list"
   ]
  },
  {
   "cell_type": "code",
   "execution_count": null,
   "metadata": {
    "id": "PgrKnL__Ob0x"
   },
   "outputs": [],
   "source": [
    "df1=pd.DataFrame(getFromSpotify(2020))"
   ]
  },
  {
   "cell_type": "code",
   "execution_count": null,
   "metadata": {
    "colab": {
     "base_uri": "https://localhost:8080/"
    },
    "executionInfo": {
     "elapsed": 307,
     "status": "ok",
     "timestamp": 1605483198680,
     "user": {
      "displayName": "Dame Jankuloski",
      "photoUrl": "https://lh3.googleusercontent.com/-jn49bvHeHWQ/AAAAAAAAAAI/AAAAAAAAAJE/hZ8VjeBN_4M/s64/photo.jpg",
      "userId": "16563980759684741122"
     },
     "user_tz": 300
    },
    "id": "VeRIOmj3QK9Y",
    "outputId": "b8e25bdc-c940-47ee-9676-f77eb55b74a9"
   },
   "outputs": [
    {
     "name": "stdout",
     "output_type": "stream",
     "text": [
      "<class 'pandas.core.frame.DataFrame'>\n",
      "RangeIndex: 2000 entries, 0 to 1999\n",
      "Data columns (total 6 columns):\n",
      " #   Column        Non-Null Count  Dtype \n",
      "---  ------        --------------  ----- \n",
      " 0   name          2000 non-null   object\n",
      " 1   artist_name   2000 non-null   object\n",
      " 2   track_id      2000 non-null   object\n",
      " 3   track_number  2000 non-null   int64 \n",
      " 4   popularity    2000 non-null   int64 \n",
      " 5   release_date  2000 non-null   object\n",
      "dtypes: int64(2), object(4)\n",
      "memory usage: 93.9+ KB\n"
     ]
    }
   ],
   "source": [
    "df1.info()"
   ]
  },
  {
   "cell_type": "markdown",
   "metadata": {
    "id": "wlj2KOaAPn1E"
   },
   "source": [
    "# Billboard Data and Spotify"
   ]
  },
  {
   "cell_type": "markdown",
   "metadata": {
    "id": "t4XM_Q6Alrni"
   },
   "source": [
    "## Load Billboard Data from previous web scraping"
   ]
  },
  {
   "cell_type": "code",
   "execution_count": null,
   "metadata": {
    "colab": {
     "base_uri": "https://localhost:8080/"
    },
    "executionInfo": {
     "elapsed": 634,
     "status": "ok",
     "timestamp": 1606073483436,
     "user": {
      "displayName": "Dame Jankuloski",
      "photoUrl": "https://lh3.googleusercontent.com/-jn49bvHeHWQ/AAAAAAAAAAI/AAAAAAAAAJE/hZ8VjeBN_4M/s64/photo.jpg",
      "userId": "16563980759684741122"
     },
     "user_tz": 300
    },
    "id": "Cc1bliUYlxPL",
    "outputId": "6c37ad51-5027-4237-c9dc-133d4142fee0"
   },
   "outputs": [
    {
     "data": {
      "text/plain": [
       "<bound method DataFrame.info of      number            title                             artist  year\n",
       "0         1    Boom Boom Pow                The Black Eyed Peas  2009\n",
       "1         2       Poker Face                          Lady Gaga  2009\n",
       "2         3       Just Dance  Lady Gaga featuring Colby O'Donis  2009\n",
       "3         4  I Gotta Feeling                The Black Eyed Peas  2009\n",
       "4         5       Love Story                       Taylor Swift  2009\n",
       "..      ...              ...                                ...   ...\n",
       "986      96      Eyes on You                         Chase Rice  2019\n",
       "987      97    All to Myself                         Dan + Shay  2019\n",
       "988      98        Boyfriend     Ariana Grande and Social House  2019\n",
       "989      99     Walk Me Home                               P!nk  2019\n",
       "990     100          Robbery                         Juice Wrld  2019\n",
       "\n",
       "[991 rows x 4 columns]>"
      ]
     },
     "execution_count": 6,
     "metadata": {
      "tags": []
     },
     "output_type": "execute_result"
    }
   ],
   "source": [
    "#load billboard dataset extracted by web scraping code. \n",
    "df_bb = pd.read_csv('/content/drive/My Drive/ML Group Project/Data Sets/billboardSongs2009_2019_5.csv')\n",
    "\n",
    "df_bb=df_bb.drop(df_bb.columns[0], axis=1) #drop unecessary column picked up from the index column\n",
    "df_bb=df_bb[df_bb['year']>=2009]\n",
    "df_bb=df_bb.drop_duplicates(['title', 'artist'])\n",
    "df_bb.reset_index(inplace=True, drop=True)\n",
    "df_bb.info"
   ]
  },
  {
   "cell_type": "markdown",
   "metadata": {
    "id": "tfkV6bxMYU9X"
   },
   "source": [
    "## Use Spotipy's search function"
   ]
  },
  {
   "cell_type": "markdown",
   "metadata": {
    "id": "scE0xyipl3dz"
   },
   "source": [
    "Using Spotipy's search function that can return up to 2000 results, (50 in one search)"
   ]
  },
  {
   "cell_type": "code",
   "execution_count": null,
   "metadata": {
    "id": "7l8AFpWxqvJ8"
   },
   "outputs": [],
   "source": [
    "# def getSongIDfromSpotify(title=\"\",artist=\"\",year=2000):\n",
    "#   sInfo = sp.search(q='track:\"' + title + '\"',limit=50,type='track') # + '\" artist:\"' + artist + '\"' + 'year:' + str(year-1) +\"-\" +str(year+1) ' artist:'+artist\n",
    "  \n",
    "#   # #if results are close to 50, it means the song name search is too generic!\n",
    "#   # if(len(sInfo['tracks']['items'])>49):\n",
    "#   #   sInfo = sp.search(q='track:\"' + title + '\" artist:\"' + artist + '\"',limit=50,type='track')  \n",
    "#   #   print(len(sInfo['tracks']['items']), title, artist)\n",
    "#   rows_list = []\n",
    "#   df_song = dict()\n",
    "#   df_song['track_id']=np.NaN\n",
    "#   df_song['popularity']=np.NaN\n",
    "#   df_song['artist_name']=np.NaN\n",
    "\n",
    "#   for idx, song in enumerate(sInfo['tracks']['items']):\n",
    "#     dict1={}\n",
    "#     dict1['track_id'] = song['id']\n",
    "#     dict1['popularity'] = int(song['popularity'])\n",
    "#     #try:\n",
    "#     if len(song['artists'][0])>0:\n",
    "#       dict1['artist_name']=song['artists'][0]['name']\n",
    "      \n",
    "#     rows_list.append(dict1)\n",
    "#     df_song = pd.DataFrame(rows_list)\n",
    "#     df_song=df_song.sort_values(\"popularity\", ascending=False).head(1)\n",
    "  \n",
    "#   return df_song"
   ]
  },
  {
   "cell_type": "code",
   "execution_count": 5,
   "metadata": {
    "executionInfo": {
     "elapsed": 348,
     "status": "ok",
     "timestamp": 1607355518677,
     "user": {
      "displayName": "Victor Leo Fonseca",
      "photoUrl": "https://lh3.googleusercontent.com/a-/AOh14GhgHT6O0gfsAr9GnTBg53iL5Dgs87nCcnOPJ-fWHw=s64",
      "userId": "08489366047488854961"
     },
     "user_tz": 300
    },
    "id": "PU9JahKflLTw"
   },
   "outputs": [],
   "source": [
    "#2nd version dev\n",
    "def getSongIDfromSpotify(title,artist,year):\n",
    "  rows_list = []\n",
    "  df_song = dict()\n",
    "  df_song['track_id']=np.NaN\n",
    "  df_song['popularity']=np.NaN\n",
    "  df_song['artist_name']=np.NaN\n",
    "  df_search = pd.DataFrame()\n",
    "\n",
    "  for count in range(1):\n",
    "    sInfo = sp.search(q='track:' + title, limit=50, offset=count*50, type='track')\n",
    "    if len(sInfo['tracks']['items'])>0:\n",
    "      df_search = df_search.append(pd.json_normalize(sInfo['tracks']['items'])) # \n",
    "    else: break\n",
    "\n",
    "  if len(sInfo['tracks']['items'])>0:\n",
    "    #df_search = pd.json_normalize(sInfo['tracks']['items'])\n",
    "    #print(title)\n",
    "    df_search.sort_values('popularity',ascending=False,inplace=True)\n",
    "\n",
    "    for idx, a in enumerate(df_search.artists):\n",
    "      if artist.find(a[0]['name'].lower()) > -1:\n",
    "        dict1={}\n",
    "        #print(idx, title, artist, a[0]['name'], df_search.iloc[idx]['id'], df_search.iloc[idx]['popularity'])\n",
    "        dict1['track_id'] = df_search.iloc[idx]['id']\n",
    "        dict1['popularity'] = df_search.iloc[idx]['popularity']\n",
    "        dict1['artist_name'] = a[0]['name']\n",
    "        rows_list.append(dict1)\n",
    "        df_song = pd.DataFrame(rows_list)\n",
    "        df_song=df_song.head(1)\n",
    "        break\n",
    "  \n",
    "  return df_song"
   ]
  },
  {
   "cell_type": "code",
   "execution_count": 6,
   "metadata": {
    "colab": {
     "base_uri": "https://localhost:8080/",
     "height": 472
    },
    "executionInfo": {
     "elapsed": 317,
     "status": "error",
     "timestamp": 1607355525416,
     "user": {
      "displayName": "Victor Leo Fonseca",
      "photoUrl": "https://lh3.googleusercontent.com/a-/AOh14GhgHT6O0gfsAr9GnTBg53iL5Dgs87nCcnOPJ-fWHw=s64",
      "userId": "08489366047488854961"
     },
     "user_tz": 300
    },
    "id": "umUJYn0tfY5i",
    "outputId": "af17543d-dd6f-4cbc-fd4c-7ab0cea6dc88"
   },
   "outputs": [
    {
     "ename": "FileNotFoundError",
     "evalue": "ignored",
     "output_type": "error",
     "traceback": [
      "\u001b[0;31m---------------------------------------------------------------------------\u001b[0m",
      "\u001b[0;31mFileNotFoundError\u001b[0m                         Traceback (most recent call last)",
      "\u001b[0;32m<ipython-input-6-5139c279642a>\u001b[0m in \u001b[0;36m<module>\u001b[0;34m()\u001b[0m\n\u001b[1;32m      1\u001b[0m \u001b[0mdf_bb_ids\u001b[0m\u001b[0;34m=\u001b[0m\u001b[0mpd\u001b[0m\u001b[0;34m.\u001b[0m\u001b[0mDataFrame\u001b[0m\u001b[0;34m(\u001b[0m\u001b[0;34m)\u001b[0m\u001b[0;34m\u001b[0m\u001b[0;34m\u001b[0m\u001b[0m\n\u001b[0;32m----> 2\u001b[0;31m \u001b[0mdf_no_bb\u001b[0m \u001b[0;34m=\u001b[0m \u001b[0mpd\u001b[0m\u001b[0;34m.\u001b[0m\u001b[0mread_csv\u001b[0m\u001b[0;34m(\u001b[0m\u001b[0;34m'/content/drive/My Drive/ML Group Project/Data Sets/no_billboard.csv'\u001b[0m\u001b[0;34m)\u001b[0m\u001b[0;34m\u001b[0m\u001b[0;34m\u001b[0m\u001b[0m\n\u001b[0m\u001b[1;32m      3\u001b[0m \u001b[0;34m\u001b[0m\u001b[0m\n\u001b[1;32m      4\u001b[0m \u001b[0;32mfor\u001b[0m \u001b[0mindex\u001b[0m\u001b[0;34m,\u001b[0m \u001b[0mrow\u001b[0m \u001b[0;32min\u001b[0m \u001b[0mdf_bb\u001b[0m\u001b[0;34m.\u001b[0m\u001b[0miterrows\u001b[0m\u001b[0;34m(\u001b[0m\u001b[0;34m)\u001b[0m\u001b[0;34m:\u001b[0m\u001b[0;34m\u001b[0m\u001b[0;34m\u001b[0m\u001b[0m\n\u001b[1;32m      5\u001b[0m   \u001b[0msong_name\u001b[0m\u001b[0;34m=\u001b[0m\u001b[0mrow\u001b[0m\u001b[0;34m[\u001b[0m\u001b[0;34m'title'\u001b[0m\u001b[0;34m]\u001b[0m \u001b[0;31m#.replace(\"'\",\"\\'\")\u001b[0m\u001b[0;34m\u001b[0m\u001b[0;34m\u001b[0m\u001b[0m\n",
      "\u001b[0;32m/usr/local/lib/python3.6/dist-packages/pandas/io/parsers.py\u001b[0m in \u001b[0;36mread_csv\u001b[0;34m(filepath_or_buffer, sep, delimiter, header, names, index_col, usecols, squeeze, prefix, mangle_dupe_cols, dtype, engine, converters, true_values, false_values, skipinitialspace, skiprows, skipfooter, nrows, na_values, keep_default_na, na_filter, verbose, skip_blank_lines, parse_dates, infer_datetime_format, keep_date_col, date_parser, dayfirst, cache_dates, iterator, chunksize, compression, thousands, decimal, lineterminator, quotechar, quoting, doublequote, escapechar, comment, encoding, dialect, error_bad_lines, warn_bad_lines, delim_whitespace, low_memory, memory_map, float_precision)\u001b[0m\n\u001b[1;32m    686\u001b[0m     )\n\u001b[1;32m    687\u001b[0m \u001b[0;34m\u001b[0m\u001b[0m\n\u001b[0;32m--> 688\u001b[0;31m     \u001b[0;32mreturn\u001b[0m \u001b[0m_read\u001b[0m\u001b[0;34m(\u001b[0m\u001b[0mfilepath_or_buffer\u001b[0m\u001b[0;34m,\u001b[0m \u001b[0mkwds\u001b[0m\u001b[0;34m)\u001b[0m\u001b[0;34m\u001b[0m\u001b[0;34m\u001b[0m\u001b[0m\n\u001b[0m\u001b[1;32m    689\u001b[0m \u001b[0;34m\u001b[0m\u001b[0m\n\u001b[1;32m    690\u001b[0m \u001b[0;34m\u001b[0m\u001b[0m\n",
      "\u001b[0;32m/usr/local/lib/python3.6/dist-packages/pandas/io/parsers.py\u001b[0m in \u001b[0;36m_read\u001b[0;34m(filepath_or_buffer, kwds)\u001b[0m\n\u001b[1;32m    452\u001b[0m \u001b[0;34m\u001b[0m\u001b[0m\n\u001b[1;32m    453\u001b[0m     \u001b[0;31m# Create the parser.\u001b[0m\u001b[0;34m\u001b[0m\u001b[0;34m\u001b[0m\u001b[0;34m\u001b[0m\u001b[0m\n\u001b[0;32m--> 454\u001b[0;31m     \u001b[0mparser\u001b[0m \u001b[0;34m=\u001b[0m \u001b[0mTextFileReader\u001b[0m\u001b[0;34m(\u001b[0m\u001b[0mfp_or_buf\u001b[0m\u001b[0;34m,\u001b[0m \u001b[0;34m**\u001b[0m\u001b[0mkwds\u001b[0m\u001b[0;34m)\u001b[0m\u001b[0;34m\u001b[0m\u001b[0;34m\u001b[0m\u001b[0m\n\u001b[0m\u001b[1;32m    455\u001b[0m \u001b[0;34m\u001b[0m\u001b[0m\n\u001b[1;32m    456\u001b[0m     \u001b[0;32mif\u001b[0m \u001b[0mchunksize\u001b[0m \u001b[0;32mor\u001b[0m \u001b[0miterator\u001b[0m\u001b[0;34m:\u001b[0m\u001b[0;34m\u001b[0m\u001b[0;34m\u001b[0m\u001b[0m\n",
      "\u001b[0;32m/usr/local/lib/python3.6/dist-packages/pandas/io/parsers.py\u001b[0m in \u001b[0;36m__init__\u001b[0;34m(self, f, engine, **kwds)\u001b[0m\n\u001b[1;32m    946\u001b[0m             \u001b[0mself\u001b[0m\u001b[0;34m.\u001b[0m\u001b[0moptions\u001b[0m\u001b[0;34m[\u001b[0m\u001b[0;34m\"has_index_names\"\u001b[0m\u001b[0;34m]\u001b[0m \u001b[0;34m=\u001b[0m \u001b[0mkwds\u001b[0m\u001b[0;34m[\u001b[0m\u001b[0;34m\"has_index_names\"\u001b[0m\u001b[0;34m]\u001b[0m\u001b[0;34m\u001b[0m\u001b[0;34m\u001b[0m\u001b[0m\n\u001b[1;32m    947\u001b[0m \u001b[0;34m\u001b[0m\u001b[0m\n\u001b[0;32m--> 948\u001b[0;31m         \u001b[0mself\u001b[0m\u001b[0;34m.\u001b[0m\u001b[0m_make_engine\u001b[0m\u001b[0;34m(\u001b[0m\u001b[0mself\u001b[0m\u001b[0;34m.\u001b[0m\u001b[0mengine\u001b[0m\u001b[0;34m)\u001b[0m\u001b[0;34m\u001b[0m\u001b[0;34m\u001b[0m\u001b[0m\n\u001b[0m\u001b[1;32m    949\u001b[0m \u001b[0;34m\u001b[0m\u001b[0m\n\u001b[1;32m    950\u001b[0m     \u001b[0;32mdef\u001b[0m \u001b[0mclose\u001b[0m\u001b[0;34m(\u001b[0m\u001b[0mself\u001b[0m\u001b[0;34m)\u001b[0m\u001b[0;34m:\u001b[0m\u001b[0;34m\u001b[0m\u001b[0;34m\u001b[0m\u001b[0m\n",
      "\u001b[0;32m/usr/local/lib/python3.6/dist-packages/pandas/io/parsers.py\u001b[0m in \u001b[0;36m_make_engine\u001b[0;34m(self, engine)\u001b[0m\n\u001b[1;32m   1178\u001b[0m     \u001b[0;32mdef\u001b[0m \u001b[0m_make_engine\u001b[0m\u001b[0;34m(\u001b[0m\u001b[0mself\u001b[0m\u001b[0;34m,\u001b[0m \u001b[0mengine\u001b[0m\u001b[0;34m=\u001b[0m\u001b[0;34m\"c\"\u001b[0m\u001b[0;34m)\u001b[0m\u001b[0;34m:\u001b[0m\u001b[0;34m\u001b[0m\u001b[0;34m\u001b[0m\u001b[0m\n\u001b[1;32m   1179\u001b[0m         \u001b[0;32mif\u001b[0m \u001b[0mengine\u001b[0m \u001b[0;34m==\u001b[0m \u001b[0;34m\"c\"\u001b[0m\u001b[0;34m:\u001b[0m\u001b[0;34m\u001b[0m\u001b[0;34m\u001b[0m\u001b[0m\n\u001b[0;32m-> 1180\u001b[0;31m             \u001b[0mself\u001b[0m\u001b[0;34m.\u001b[0m\u001b[0m_engine\u001b[0m \u001b[0;34m=\u001b[0m \u001b[0mCParserWrapper\u001b[0m\u001b[0;34m(\u001b[0m\u001b[0mself\u001b[0m\u001b[0;34m.\u001b[0m\u001b[0mf\u001b[0m\u001b[0;34m,\u001b[0m \u001b[0;34m**\u001b[0m\u001b[0mself\u001b[0m\u001b[0;34m.\u001b[0m\u001b[0moptions\u001b[0m\u001b[0;34m)\u001b[0m\u001b[0;34m\u001b[0m\u001b[0;34m\u001b[0m\u001b[0m\n\u001b[0m\u001b[1;32m   1181\u001b[0m         \u001b[0;32melse\u001b[0m\u001b[0;34m:\u001b[0m\u001b[0;34m\u001b[0m\u001b[0;34m\u001b[0m\u001b[0m\n\u001b[1;32m   1182\u001b[0m             \u001b[0;32mif\u001b[0m \u001b[0mengine\u001b[0m \u001b[0;34m==\u001b[0m \u001b[0;34m\"python\"\u001b[0m\u001b[0;34m:\u001b[0m\u001b[0;34m\u001b[0m\u001b[0;34m\u001b[0m\u001b[0m\n",
      "\u001b[0;32m/usr/local/lib/python3.6/dist-packages/pandas/io/parsers.py\u001b[0m in \u001b[0;36m__init__\u001b[0;34m(self, src, **kwds)\u001b[0m\n\u001b[1;32m   2008\u001b[0m         \u001b[0mkwds\u001b[0m\u001b[0;34m[\u001b[0m\u001b[0;34m\"usecols\"\u001b[0m\u001b[0;34m]\u001b[0m \u001b[0;34m=\u001b[0m \u001b[0mself\u001b[0m\u001b[0;34m.\u001b[0m\u001b[0musecols\u001b[0m\u001b[0;34m\u001b[0m\u001b[0;34m\u001b[0m\u001b[0m\n\u001b[1;32m   2009\u001b[0m \u001b[0;34m\u001b[0m\u001b[0m\n\u001b[0;32m-> 2010\u001b[0;31m         \u001b[0mself\u001b[0m\u001b[0;34m.\u001b[0m\u001b[0m_reader\u001b[0m \u001b[0;34m=\u001b[0m \u001b[0mparsers\u001b[0m\u001b[0;34m.\u001b[0m\u001b[0mTextReader\u001b[0m\u001b[0;34m(\u001b[0m\u001b[0msrc\u001b[0m\u001b[0;34m,\u001b[0m \u001b[0;34m**\u001b[0m\u001b[0mkwds\u001b[0m\u001b[0;34m)\u001b[0m\u001b[0;34m\u001b[0m\u001b[0;34m\u001b[0m\u001b[0m\n\u001b[0m\u001b[1;32m   2011\u001b[0m         \u001b[0mself\u001b[0m\u001b[0;34m.\u001b[0m\u001b[0munnamed_cols\u001b[0m \u001b[0;34m=\u001b[0m \u001b[0mself\u001b[0m\u001b[0;34m.\u001b[0m\u001b[0m_reader\u001b[0m\u001b[0;34m.\u001b[0m\u001b[0munnamed_cols\u001b[0m\u001b[0;34m\u001b[0m\u001b[0;34m\u001b[0m\u001b[0m\n\u001b[1;32m   2012\u001b[0m \u001b[0;34m\u001b[0m\u001b[0m\n",
      "\u001b[0;32mpandas/_libs/parsers.pyx\u001b[0m in \u001b[0;36mpandas._libs.parsers.TextReader.__cinit__\u001b[0;34m()\u001b[0m\n",
      "\u001b[0;32mpandas/_libs/parsers.pyx\u001b[0m in \u001b[0;36mpandas._libs.parsers.TextReader._setup_parser_source\u001b[0;34m()\u001b[0m\n",
      "\u001b[0;31mFileNotFoundError\u001b[0m: [Errno 2] No such file or directory: '/content/drive/My Drive/ML Group Project/Data Sets/no_billboard.csv'"
     ]
    }
   ],
   "source": [
    "df_bb_ids=pd.DataFrame()\n",
    "df_no_bb = pd.read_csv('/content/drive/My Drive/ML Group Project/Data Sets/no_billboard.csv')\n",
    "\n",
    "for index, row in df_bb.iterrows():\n",
    "  song_name=row['title'] #.replace(\"'\",\"\\'\")\n",
    "  artist=row['artist']\n",
    "  df_temp = getSongIDfromSpotify(song_name, artist.lower(), row['year'])\n",
    "  df_bb_ids = df_bb_ids.append(df_temp, ignore_index=True, sort=False)"
   ]
  },
  {
   "cell_type": "markdown",
   "metadata": {
    "id": "2Q1wPFUCONyX"
   },
   "source": [
    "## Read songs extracted from Spotify"
   ]
  },
  {
   "cell_type": "code",
   "execution_count": null,
   "metadata": {
    "id": "AaOJXrWkODnc"
   },
   "outputs": [],
   "source": [
    "df_no_bb = pd.read_csv('/content/drive/My Drive/ML Group Project/Data Sets/no_billboard.csv')"
   ]
  },
  {
   "cell_type": "code",
   "execution_count": null,
   "metadata": {
    "colab": {
     "base_uri": "https://localhost:8080/",
     "height": 198
    },
    "executionInfo": {
     "elapsed": 321,
     "status": "ok",
     "timestamp": 1606073790379,
     "user": {
      "displayName": "Dame Jankuloski",
      "photoUrl": "https://lh3.googleusercontent.com/-jn49bvHeHWQ/AAAAAAAAAAI/AAAAAAAAAJE/hZ8VjeBN_4M/s64/photo.jpg",
      "userId": "16563980759684741122"
     },
     "user_tz": 300
    },
    "id": "gCTHlYL5Ukam",
    "outputId": "a3745f13-034c-4b66-d144-a6ebc4f7a9b2"
   },
   "outputs": [
    {
     "data": {
      "text/html": [
       "<div>\n",
       "<style scoped>\n",
       "    .dataframe tbody tr th:only-of-type {\n",
       "        vertical-align: middle;\n",
       "    }\n",
       "\n",
       "    .dataframe tbody tr th {\n",
       "        vertical-align: top;\n",
       "    }\n",
       "\n",
       "    .dataframe thead th {\n",
       "        text-align: right;\n",
       "    }\n",
       "</style>\n",
       "<table border=\"1\" class=\"dataframe\">\n",
       "  <thead>\n",
       "    <tr style=\"text-align: right;\">\n",
       "      <th></th>\n",
       "      <th>name</th>\n",
       "      <th>artist_name</th>\n",
       "      <th>track_id</th>\n",
       "      <th>track_number</th>\n",
       "      <th>popularity</th>\n",
       "      <th>release_date</th>\n",
       "    </tr>\n",
       "  </thead>\n",
       "  <tbody>\n",
       "    <tr>\n",
       "      <th>0</th>\n",
       "      <td>Bring It On Home - Digitally Remastered 00</td>\n",
       "      <td>Lou Rawls</td>\n",
       "      <td>7lemF5PY2O8aGkhHUyz2Bp</td>\n",
       "      <td>17</td>\n",
       "      <td>37</td>\n",
       "      <td>2000-06-06</td>\n",
       "    </tr>\n",
       "    <tr>\n",
       "      <th>1</th>\n",
       "      <td>Non-Zero Possibility</td>\n",
       "      <td>At The Drive In</td>\n",
       "      <td>7nuHLglk5FqpKY93cdJFIq</td>\n",
       "      <td>11</td>\n",
       "      <td>29</td>\n",
       "      <td>2000</td>\n",
       "    </tr>\n",
       "    <tr>\n",
       "      <th>2</th>\n",
       "      <td>Discipline 99 Pt. 0</td>\n",
       "      <td>Quasimoto</td>\n",
       "      <td>0X82TPGaYIcPpFA4LmKeD7</td>\n",
       "      <td>6</td>\n",
       "      <td>32</td>\n",
       "      <td>2000-06-13</td>\n",
       "    </tr>\n",
       "    <tr>\n",
       "      <th>3</th>\n",
       "      <td>F*** You</td>\n",
       "      <td>Ja Rule</td>\n",
       "      <td>6UJtMwc3fDSJwenXlp1b3D</td>\n",
       "      <td>8</td>\n",
       "      <td>42</td>\n",
       "      <td>2000-01-01</td>\n",
       "    </tr>\n",
       "    <tr>\n",
       "      <th>4</th>\n",
       "      <td>Catch Up (Featuring Infamous 2-0 &amp; Fate Wilson)</td>\n",
       "      <td>Ludacris</td>\n",
       "      <td>01uOzjaXPn3wZctfpxQTWX</td>\n",
       "      <td>13</td>\n",
       "      <td>29</td>\n",
       "      <td>2000-01-01</td>\n",
       "    </tr>\n",
       "  </tbody>\n",
       "</table>\n",
       "</div>"
      ],
      "text/plain": [
       "                                              name  ... release_date\n",
       "0       Bring It On Home - Digitally Remastered 00  ...   2000-06-06\n",
       "1                             Non-Zero Possibility  ...         2000\n",
       "2                              Discipline 99 Pt. 0  ...   2000-06-13\n",
       "3                                         F*** You  ...   2000-01-01\n",
       "4  Catch Up (Featuring Infamous 2-0 & Fate Wilson)  ...   2000-01-01\n",
       "\n",
       "[5 rows x 6 columns]"
      ]
     },
     "execution_count": 11,
     "metadata": {
      "tags": []
     },
     "output_type": "execute_result"
    }
   ],
   "source": [
    "df_no_bb.head()"
   ]
  },
  {
   "cell_type": "code",
   "execution_count": null,
   "metadata": {
    "id": "HCMYaNh4_qDb"
   },
   "outputs": [],
   "source": [
    "print(df_bb_ids.info())\n",
    "print(df_bb_ids.loc[df_bb_ids['track_id'].isnull()])\n",
    "#print(sp.track('4a9xOJC6kgknv7cU4D99Ha'))"
   ]
  },
  {
   "cell_type": "markdown",
   "metadata": {
    "id": "NS1zAUIHYcFL"
   },
   "source": [
    "## Merge results with billboard data"
   ]
  },
  {
   "cell_type": "code",
   "execution_count": null,
   "metadata": {
    "id": "cq7wdrKE_hFY"
   },
   "outputs": [],
   "source": [
    "df_bb_res = pd.merge(df_bb, df_bb_ids, left_index=True, right_index=True, how='left')\n",
    "df_bb_res.head(20)\n",
    "df_bb_res.to_csv('/content/drive/My Drive/ML Group Project/Data Sets/bbSongs2009_2019_6.csv')"
   ]
  },
  {
   "cell_type": "code",
   "execution_count": null,
   "metadata": {
    "id": "Z5VzF93pxOfE"
   },
   "outputs": [],
   "source": [
    "df_bb_2 = pd.read_csv('/content/drive/My Drive/ML Group Project/Data Sets/bbSongs2009_2019_2.csv')\n",
    "df_bb_3 = pd.read_csv('/content/drive/My Drive/ML Group Project/Data Sets/bbSongs2009_2019_3.csv')"
   ]
  },
  {
   "cell_type": "code",
   "execution_count": null,
   "metadata": {
    "id": "Z90KzxHo2f1l"
   },
   "outputs": [],
   "source": [
    "song= df_bb_2.iloc[29]['title'] #\"DontTrustMe\"\n",
    "artist=\"\" #df_bb_2.iloc[141]['artist']\n",
    "print(song, artist)\n",
    "\n",
    "result = sp.search(q='track:' + song ,limit=50, type='track',offset=0) #'\" artist:\"' + artist +\n",
    "df_test = pd.json_normalize(result['tracks']['items'])\n",
    "\n",
    "#print(len(result['tracks']['items']))\n",
    "\n",
    "df_test.sort_values('popularity', ascending=False, inplace=True)\n",
    "\n",
    "for idx, item in enumerate(df_test['name']):\n",
    "  print(song, item, df_test.iloc[idx]['artists'][0]['name']) # item[0]['name'], item['popularity'])\n",
    "\n",
    "#for idx, r in enumerate(result['tracks']['items']):\n",
    "  #print(r['name'],r['artists'][0]['name'],r['popularity'])"
   ]
  },
  {
   "cell_type": "markdown",
   "metadata": {
    "id": "JcdcYG1H0kaR"
   },
   "source": [
    "Read features for manually retrieved IDs"
   ]
  },
  {
   "cell_type": "code",
   "execution_count": null,
   "metadata": {
    "id": "M4mNqD86z7Ic"
   },
   "outputs": [],
   "source": [
    "df_bb_miss = pd.read_csv('/content/drive/My Drive/ML Group Project/Data Sets/bbSongs_withFeatures_v6-2.csv')\n",
    "df_bb_miss.drop(df_bb_miss.columns[0], axis=1, inplace=True) #drop unecessary column picked up from the index column\n",
    "df_bb_miss.drop('artist_name', axis=1, inplace=True) #drop unecessary column picked up from the index column"
   ]
  },
  {
   "cell_type": "code",
   "execution_count": null,
   "metadata": {
    "id": "1UoYAUgK0sUO"
   },
   "outputs": [],
   "source": [
    "import requests\n",
    "import json \n",
    "\n",
    "df_bb_miss['artist_name'] = \"\"\n",
    "\n",
    "for index, id in enumerate(df_bb_miss['track_id']):\n",
    "  token = \"BQBP4RzeeHbA3t5hp7vj8RqHBPLHwR04uUv-iZyK4EQBmJ6SYBQcEdx3aNRqhG7eDhuY5uZN-vl1lJ5l5N0k1-CoqLjl-1NCWXa6AC4aJ9VP955-Id1And_esOrF3qQIZTmbgo2on7fGe1LGa-vaIdhPstYFFalvaif9YUmb4u8r\"\n",
    "  site = \"https://api.spotify.com/v1/tracks/\" + id\n",
    "  header = {'access_token': token}\n",
    "  result = requests.get(site, header)\n",
    "  data = pd.json_normalize(json.loads(result.content))\n",
    "  #print(data['popularity'])\n",
    "  df_bb_miss.at[index,'popularity'] = data['popularity']\n",
    "  artists = pd.json_normalize(data['artists'][0])\n",
    "  print(artists['name'][0])\n",
    "  df_bb_miss.at[index,'artist_name'] = str(artists['name'][0])\n",
    "  #df_bb_miss.at[index, 'artist_name'] = \n",
    "  #print(json.loads(data))"
   ]
  },
  {
   "cell_type": "code",
   "execution_count": null,
   "metadata": {
    "id": "oSb6l7tz1B2E"
   },
   "outputs": [],
   "source": [
    "df_bb_miss.to_csv('/content/drive/My Drive/ML Group Project/Data Sets/bbSongs_withFeatures_v6-2.csv')"
   ]
  },
  {
   "cell_type": "markdown",
   "metadata": {
    "id": "4rTGm6xomQ9X"
   },
   "source": [
    "## Saving Billboard data with Spotify info to CSV"
   ]
  },
  {
   "cell_type": "code",
   "execution_count": null,
   "metadata": {
    "id": "IL_T4_PCCSeU"
   },
   "outputs": [],
   "source": [
    "#df_bb_res.to_csv('/content/drive/My Drive/ML Group Project/Data Sets/bbSongs1946_2019wSpotify_3.csv')\n"
   ]
  },
  {
   "cell_type": "code",
   "execution_count": null,
   "metadata": {
    "id": "PjJH6IFgrhw4"
   },
   "outputs": [],
   "source": [
    "#Reload dataset for Billboard songs with Spotify Song Features\n",
    "df_bb_res = pd.read_csv('/content/drive/My Drive/ML Group Project/Data Sets/bbSongs1946_2019wSpotify_3.csv')"
   ]
  },
  {
   "cell_type": "code",
   "execution_count": null,
   "metadata": {
    "id": "kNZMnFVPJstd"
   },
   "outputs": [],
   "source": [
    "df_bb_rem=df_bb_res.loc[df_bb_res['track_id'].isnull()]\n",
    "\n",
    "for index, row in df_bb_rem.iterrows():\n",
    "  artist = row['artist'].split(\" featuring \")[0]\n",
    "  result = getSongIDfromSpotify(row['title'],artist,row['year'])\n",
    "  if str(result['track_id']) != \"nan\":\n",
    "    df_bb_rem['track_id'][index] = result['track_id']\n",
    "    df_bb_rem['popularity'][index] = result['popularity']"
   ]
  },
  {
   "cell_type": "code",
   "execution_count": null,
   "metadata": {
    "colab": {
     "base_uri": "https://localhost:8080/"
    },
    "executionInfo": {
     "elapsed": 313,
     "status": "ok",
     "timestamp": 1605652083264,
     "user": {
      "displayName": "Dame Jankuloski",
      "photoUrl": "https://lh3.googleusercontent.com/-jn49bvHeHWQ/AAAAAAAAAAI/AAAAAAAAAJE/hZ8VjeBN_4M/s64/photo.jpg",
      "userId": "16563980759684741122"
     },
     "user_tz": 300
    },
    "id": "kdskt_VqO5eg",
    "outputId": "9d75335c-f3c2-40da-b9fa-c2a2c8e6ee64"
   },
   "outputs": [
    {
     "name": "stdout",
     "output_type": "stream",
     "text": [
      "<class 'pandas.core.frame.DataFrame'>\n",
      "Int64Index: 364 entries, 14 to 6271\n",
      "Data columns (total 7 columns):\n",
      " #   Column      Non-Null Count  Dtype  \n",
      "---  ------      --------------  -----  \n",
      " 0   Unnamed: 0  364 non-null    int64  \n",
      " 1   number      364 non-null    object \n",
      " 2   title       364 non-null    object \n",
      " 3   artist      364 non-null    object \n",
      " 4   year        364 non-null    int64  \n",
      " 5   track_id    105 non-null    object \n",
      " 6   popularity  105 non-null    float64\n",
      "dtypes: float64(1), int64(2), object(4)\n",
      "memory usage: 32.8+ KB\n"
     ]
    }
   ],
   "source": [
    "df_bb_rem.info()"
   ]
  },
  {
   "cell_type": "code",
   "execution_count": null,
   "metadata": {
    "colab": {
     "base_uri": "https://localhost:8080/"
    },
    "executionInfo": {
     "elapsed": 32958,
     "status": "ok",
     "timestamp": 1605652601075,
     "user": {
      "displayName": "Dame Jankuloski",
      "photoUrl": "https://lh3.googleusercontent.com/-jn49bvHeHWQ/AAAAAAAAAAI/AAAAAAAAAJE/hZ8VjeBN_4M/s64/photo.jpg",
      "userId": "16563980759684741122"
     },
     "user_tz": 300
    },
    "id": "8b1NJHaAPJD6",
    "outputId": "67a934cb-6867-451f-a324-61e1bf206267"
   },
   "outputs": [
    {
     "name": "stderr",
     "output_type": "stream",
     "text": [
      "/usr/local/lib/python3.6/dist-packages/ipykernel_launcher.py:5: SettingWithCopyWarning: \n",
      "A value is trying to be set on a copy of a slice from a DataFrame\n",
      "\n",
      "See the caveats in the documentation: https://pandas.pydata.org/pandas-docs/stable/user_guide/indexing.html#returning-a-view-versus-a-copy\n",
      "  \"\"\"\n",
      "/usr/local/lib/python3.6/dist-packages/IPython/core/interactiveshell.py:2882: SettingWithCopyWarning: \n",
      "A value is trying to be set on a copy of a slice from a DataFrame\n",
      "\n",
      "See the caveats in the documentation: https://pandas.pydata.org/pandas-docs/stable/user_guide/indexing.html#returning-a-view-versus-a-copy\n",
      "  exec(code_obj, self.user_global_ns, self.user_ns)\n",
      "/usr/local/lib/python3.6/dist-packages/ipykernel_launcher.py:6: SettingWithCopyWarning: \n",
      "A value is trying to be set on a copy of a slice from a DataFrame\n",
      "\n",
      "See the caveats in the documentation: https://pandas.pydata.org/pandas-docs/stable/user_guide/indexing.html#returning-a-view-versus-a-copy\n",
      "  \n"
     ]
    }
   ],
   "source": [
    "for index, row in df_bb_rem.iterrows():\n",
    "  artist = row['artist'].split(\" with \")[0]\n",
    "  result = getSongIDfromSpotify(row['title'],artist,row['year'])\n",
    "  if str(result['track_id']) != \"nan\":\n",
    "    df_bb_rem['track_id'][index] = result['track_id']\n",
    "    df_bb_rem['popularity'][index] = result['popularity']"
   ]
  },
  {
   "cell_type": "code",
   "execution_count": null,
   "metadata": {
    "colab": {
     "base_uri": "https://localhost:8080/"
    },
    "executionInfo": {
     "elapsed": 798,
     "status": "ok",
     "timestamp": 1605654625182,
     "user": {
      "displayName": "Dame Jankuloski",
      "photoUrl": "https://lh3.googleusercontent.com/-jn49bvHeHWQ/AAAAAAAAAAI/AAAAAAAAAJE/hZ8VjeBN_4M/s64/photo.jpg",
      "userId": "16563980759684741122"
     },
     "user_tz": 300
    },
    "id": "k4Mr1-W2Pbe7",
    "outputId": "4f09bf02-3e13-46e2-d95f-fb1497198a4d"
   },
   "outputs": [
    {
     "name": "stdout",
     "output_type": "stream",
     "text": [
      "<class 'pandas.core.frame.DataFrame'>\n",
      "Int64Index: 364 entries, 14 to 6271\n",
      "Data columns (total 7 columns):\n",
      " #   Column      Non-Null Count  Dtype  \n",
      "---  ------      --------------  -----  \n",
      " 0   Unnamed: 0  364 non-null    int64  \n",
      " 1   number      364 non-null    object \n",
      " 2   title       364 non-null    object \n",
      " 3   artist      364 non-null    object \n",
      " 4   year        364 non-null    int64  \n",
      " 5   track_id    111 non-null    object \n",
      " 6   popularity  111 non-null    float64\n",
      "dtypes: float64(1), int64(2), object(4)\n",
      "memory usage: 32.8+ KB\n"
     ]
    }
   ],
   "source": [
    "df_bb_rem.info()"
   ]
  },
  {
   "cell_type": "code",
   "execution_count": null,
   "metadata": {
    "id": "P0hBUBC9daMf"
   },
   "outputs": [],
   "source": [
    "for index, row in df_bb_rem.iterrows():\n",
    "  if str(row['track_id']) == \"nan\":\n",
    "    print(row['title'] + \"::\" + row['artist']) "
   ]
  },
  {
   "cell_type": "markdown",
   "metadata": {
    "id": "z8-I_3FKoaqY"
   },
   "source": [
    "Re-load billboard data with Spotify"
   ]
  },
  {
   "cell_type": "code",
   "execution_count": null,
   "metadata": {
    "id": "PRuJq6pMuFtB"
   },
   "outputs": [],
   "source": [
    "features=['danceability', 'energy', 'key', 'loudness', 'mode', 'speechiness', 'acousticness', 'instrumentalness', 'liveness', 'valence', 'tempo', 'duration_ms', 'time_signature']\n",
    "\n",
    "import numpy as np\n",
    "\n",
    "results_list=[]\n",
    "for song_id in df_bb_miss['track_id']:\n",
    "  dict1={}\n",
    "  # if np.isnan(song_id):\n",
    "  result = sp.audio_features(song_id)\n",
    "  for f in features:\n",
    "    dict1[f]=result[0][f]\n",
    "  # else:\n",
    "  #   for f in features:\n",
    "  #     dict1[f]=np.NaN\n",
    "\n",
    "  results_list.append(dict1)"
   ]
  },
  {
   "cell_type": "code",
   "execution_count": null,
   "metadata": {
    "id": "2646PjxYMd1h"
   },
   "outputs": [],
   "source": [
    "df_bb_2 = pd.DataFrame(results_list)\n",
    "#df_bb.insert(len(df_bb.columns), features, results_list, True)"
   ]
  },
  {
   "cell_type": "code",
   "execution_count": null,
   "metadata": {
    "id": "A1_SdursU2sp"
   },
   "outputs": [],
   "source": [
    "data = pd.concat([df_bb_miss, df_bb_2], axis=1, sort=False )"
   ]
  },
  {
   "cell_type": "code",
   "execution_count": null,
   "metadata": {
    "id": "3UjIi7RqMTF2"
   },
   "outputs": [],
   "source": [
    "data.to_csv('/content/drive/My Drive/ML Group Project/Data Sets/bbSongs_withFeatures_v6-3.csv')"
   ]
  },
  {
   "cell_type": "code",
   "execution_count": null,
   "metadata": {
    "id": "JahWh9T0NZ37"
   },
   "outputs": [],
   "source": [
    "data_bb=pd.read_csv('/content/drive/My Drive/ML Group Project/Data Sets/bbSongs_withFeatures_v6.csv')\n",
    "data_no_bb = pd.read_csv('/content/drive/My Drive/ML Group Project/Data Sets/no_bb_w_audio_feat.csv')\n"
   ]
  },
  {
   "cell_type": "code",
   "execution_count": null,
   "metadata": {
    "id": "_leXLUh9VyI9"
   },
   "outputs": [],
   "source": [
    "data_no_bb.drop(data_no_bb.columns[0], axis=1, inplace=True)\n",
    "data_no_bb.drop(['track_number'], axis=1, inplace=True)"
   ]
  },
  {
   "cell_type": "code",
   "execution_count": null,
   "metadata": {
    "id": "EA4khoMoZSQ5"
   },
   "outputs": [],
   "source": [
    "data_no_bb.info()\n",
    "data_bb.info()"
   ]
  },
  {
   "cell_type": "code",
   "execution_count": null,
   "metadata": {
    "colab": {
     "base_uri": "https://localhost:8080/",
     "height": 305
    },
    "executionInfo": {
     "elapsed": 365,
     "status": "ok",
     "timestamp": 1606088615593,
     "user": {
      "displayName": "Dame Jankuloski",
      "photoUrl": "https://lh3.googleusercontent.com/-jn49bvHeHWQ/AAAAAAAAAAI/AAAAAAAAAJE/hZ8VjeBN_4M/s64/photo.jpg",
      "userId": "16563980759684741122"
     },
     "user_tz": 300
    },
    "id": "YM9ncicsVBo8",
    "outputId": "23c537ab-3d55-41e9-8a8b-67be24273f1c"
   },
   "outputs": [
    {
     "data": {
      "text/html": [
       "<div>\n",
       "<style scoped>\n",
       "    .dataframe tbody tr th:only-of-type {\n",
       "        vertical-align: middle;\n",
       "    }\n",
       "\n",
       "    .dataframe tbody tr th {\n",
       "        vertical-align: top;\n",
       "    }\n",
       "\n",
       "    .dataframe thead th {\n",
       "        text-align: right;\n",
       "    }\n",
       "</style>\n",
       "<table border=\"1\" class=\"dataframe\">\n",
       "  <thead>\n",
       "    <tr style=\"text-align: right;\">\n",
       "      <th></th>\n",
       "      <th>artist_name</th>\n",
       "      <th>track_id</th>\n",
       "      <th>popularity</th>\n",
       "      <th>release_date</th>\n",
       "      <th>danceability</th>\n",
       "      <th>energy</th>\n",
       "      <th>key</th>\n",
       "      <th>loudness</th>\n",
       "      <th>mode</th>\n",
       "      <th>speechiness</th>\n",
       "      <th>acousticness</th>\n",
       "      <th>instrumentalness</th>\n",
       "      <th>liveness</th>\n",
       "      <th>valence</th>\n",
       "      <th>tempo</th>\n",
       "      <th>type</th>\n",
       "      <th>uri</th>\n",
       "      <th>track_href</th>\n",
       "      <th>analysis_url</th>\n",
       "      <th>duration_ms</th>\n",
       "      <th>time_signature</th>\n",
       "    </tr>\n",
       "  </thead>\n",
       "  <tbody>\n",
       "    <tr>\n",
       "      <th>0</th>\n",
       "      <td>Lou Rawls</td>\n",
       "      <td>7lemF5PY2O8aGkhHUyz2Bp</td>\n",
       "      <td>37</td>\n",
       "      <td>2000-06-06</td>\n",
       "      <td>0.454</td>\n",
       "      <td>0.571</td>\n",
       "      <td>0</td>\n",
       "      <td>-8.977</td>\n",
       "      <td>1</td>\n",
       "      <td>0.0667</td>\n",
       "      <td>0.1420</td>\n",
       "      <td>0.000163</td>\n",
       "      <td>0.1790</td>\n",
       "      <td>0.792</td>\n",
       "      <td>184.125</td>\n",
       "      <td>audio_features</td>\n",
       "      <td>spotify:track:7lemF5PY2O8aGkhHUyz2Bp</td>\n",
       "      <td>https://api.spotify.com/v1/tracks/7lemF5PY2O8a...</td>\n",
       "      <td>https://api.spotify.com/v1/audio-analysis/7lem...</td>\n",
       "      <td>178627</td>\n",
       "      <td>4.0</td>\n",
       "    </tr>\n",
       "    <tr>\n",
       "      <th>1</th>\n",
       "      <td>At The Drive In</td>\n",
       "      <td>7nuHLglk5FqpKY93cdJFIq</td>\n",
       "      <td>29</td>\n",
       "      <td>2000</td>\n",
       "      <td>0.294</td>\n",
       "      <td>0.612</td>\n",
       "      <td>7</td>\n",
       "      <td>-6.579</td>\n",
       "      <td>1</td>\n",
       "      <td>0.0355</td>\n",
       "      <td>0.6060</td>\n",
       "      <td>0.113000</td>\n",
       "      <td>0.1040</td>\n",
       "      <td>0.187</td>\n",
       "      <td>74.374</td>\n",
       "      <td>audio_features</td>\n",
       "      <td>spotify:track:7nuHLglk5FqpKY93cdJFIq</td>\n",
       "      <td>https://api.spotify.com/v1/tracks/7nuHLglk5Fqp...</td>\n",
       "      <td>https://api.spotify.com/v1/audio-analysis/7nuH...</td>\n",
       "      <td>334213</td>\n",
       "      <td>4.0</td>\n",
       "    </tr>\n",
       "    <tr>\n",
       "      <th>2</th>\n",
       "      <td>Quasimoto</td>\n",
       "      <td>0X82TPGaYIcPpFA4LmKeD7</td>\n",
       "      <td>32</td>\n",
       "      <td>2000-06-13</td>\n",
       "      <td>0.675</td>\n",
       "      <td>0.623</td>\n",
       "      <td>1</td>\n",
       "      <td>-6.921</td>\n",
       "      <td>1</td>\n",
       "      <td>0.4090</td>\n",
       "      <td>0.0392</td>\n",
       "      <td>0.000000</td>\n",
       "      <td>0.8680</td>\n",
       "      <td>0.727</td>\n",
       "      <td>91.346</td>\n",
       "      <td>audio_features</td>\n",
       "      <td>spotify:track:0X82TPGaYIcPpFA4LmKeD7</td>\n",
       "      <td>https://api.spotify.com/v1/tracks/0X82TPGaYIcP...</td>\n",
       "      <td>https://api.spotify.com/v1/audio-analysis/0X82...</td>\n",
       "      <td>152680</td>\n",
       "      <td>4.0</td>\n",
       "    </tr>\n",
       "    <tr>\n",
       "      <th>3</th>\n",
       "      <td>Ja Rule</td>\n",
       "      <td>6UJtMwc3fDSJwenXlp1b3D</td>\n",
       "      <td>42</td>\n",
       "      <td>2000-01-01</td>\n",
       "      <td>0.812</td>\n",
       "      <td>0.849</td>\n",
       "      <td>11</td>\n",
       "      <td>-4.264</td>\n",
       "      <td>1</td>\n",
       "      <td>0.2600</td>\n",
       "      <td>0.0758</td>\n",
       "      <td>0.000000</td>\n",
       "      <td>0.0675</td>\n",
       "      <td>0.838</td>\n",
       "      <td>94.015</td>\n",
       "      <td>audio_features</td>\n",
       "      <td>spotify:track:6UJtMwc3fDSJwenXlp1b3D</td>\n",
       "      <td>https://api.spotify.com/v1/tracks/6UJtMwc3fDSJ...</td>\n",
       "      <td>https://api.spotify.com/v1/audio-analysis/6UJt...</td>\n",
       "      <td>253400</td>\n",
       "      <td>4.0</td>\n",
       "    </tr>\n",
       "    <tr>\n",
       "      <th>4</th>\n",
       "      <td>Ludacris</td>\n",
       "      <td>01uOzjaXPn3wZctfpxQTWX</td>\n",
       "      <td>29</td>\n",
       "      <td>2000-01-01</td>\n",
       "      <td>0.613</td>\n",
       "      <td>0.690</td>\n",
       "      <td>5</td>\n",
       "      <td>-6.575</td>\n",
       "      <td>1</td>\n",
       "      <td>0.1760</td>\n",
       "      <td>0.1530</td>\n",
       "      <td>0.000000</td>\n",
       "      <td>0.0816</td>\n",
       "      <td>0.247</td>\n",
       "      <td>77.995</td>\n",
       "      <td>audio_features</td>\n",
       "      <td>spotify:track:01uOzjaXPn3wZctfpxQTWX</td>\n",
       "      <td>https://api.spotify.com/v1/tracks/01uOzjaXPn3w...</td>\n",
       "      <td>https://api.spotify.com/v1/audio-analysis/01uO...</td>\n",
       "      <td>254347</td>\n",
       "      <td>4.0</td>\n",
       "    </tr>\n",
       "  </tbody>\n",
       "</table>\n",
       "</div>"
      ],
      "text/plain": [
       "       artist_name                track_id  ...  duration_ms time_signature\n",
       "0        Lou Rawls  7lemF5PY2O8aGkhHUyz2Bp  ...       178627            4.0\n",
       "1  At The Drive In  7nuHLglk5FqpKY93cdJFIq  ...       334213            4.0\n",
       "2        Quasimoto  0X82TPGaYIcPpFA4LmKeD7  ...       152680            4.0\n",
       "3          Ja Rule  6UJtMwc3fDSJwenXlp1b3D  ...       253400            4.0\n",
       "4         Ludacris  01uOzjaXPn3wZctfpxQTWX  ...       254347            4.0\n",
       "\n",
       "[5 rows x 21 columns]"
      ]
     },
     "execution_count": 128,
     "metadata": {
      "tags": []
     },
     "output_type": "execute_result"
    }
   ],
   "source": [
    "data_no_bb.head(5)"
   ]
  },
  {
   "cell_type": "code",
   "execution_count": null,
   "metadata": {
    "id": "g97bdiqZWhMZ"
   },
   "outputs": [],
   "source": [
    "data = pd.read_csv('/content/drive/MyDrive/ML Group Project/Data Sets/v2_with_genre.csv')"
   ]
  },
  {
   "cell_type": "code",
   "execution_count": null,
   "metadata": {
    "colab": {
     "base_uri": "https://localhost:8080/"
    },
    "executionInfo": {
     "elapsed": 634,
     "status": "ok",
     "timestamp": 1606092860571,
     "user": {
      "displayName": "Dame Jankuloski",
      "photoUrl": "https://lh3.googleusercontent.com/-jn49bvHeHWQ/AAAAAAAAAAI/AAAAAAAAAJE/hZ8VjeBN_4M/s64/photo.jpg",
      "userId": "16563980759684741122"
     },
     "user_tz": 300
    },
    "id": "ZqOCxU-zWp_c",
    "outputId": "ba5a642f-b5ef-4baf-915b-dc32ca5c8e7b"
   },
   "outputs": [
    {
     "name": "stdout",
     "output_type": "stream",
     "text": [
      "<class 'pandas.core.frame.DataFrame'>\n",
      "RangeIndex: 787182 entries, 0 to 787181\n",
      "Data columns (total 27 columns):\n",
      " #   Column            Non-Null Count   Dtype  \n",
      "---  ------            --------------   -----  \n",
      " 0   Unnamed: 0        787182 non-null  int64  \n",
      " 1   acousticness      787182 non-null  float64\n",
      " 2   analysis_url      787182 non-null  object \n",
      " 3   artist            787144 non-null  object \n",
      " 4   artist_name       787144 non-null  object \n",
      " 5   billboard         787182 non-null  int64  \n",
      " 6   danceability      787181 non-null  float64\n",
      " 7   duration_ms       787182 non-null  int64  \n",
      " 8   energy            787182 non-null  float64\n",
      " 9   instrumentalness  787182 non-null  float64\n",
      " 10  key               787182 non-null  int64  \n",
      " 11  liveness          787182 non-null  float64\n",
      " 12  loudness          787182 non-null  float64\n",
      " 13  mode              787182 non-null  int64  \n",
      " 14  number            787182 non-null  int64  \n",
      " 15  popularity        787182 non-null  int64  \n",
      " 16  speechiness       787181 non-null  float64\n",
      " 17  tempo             787182 non-null  float64\n",
      " 18  time_signature    787181 non-null  float64\n",
      " 19  title             787181 non-null  object \n",
      " 20  track_href        787182 non-null  object \n",
      " 21  track_id          787182 non-null  object \n",
      " 22  type              787182 non-null  object \n",
      " 23  uri               787182 non-null  object \n",
      " 24  valence           787181 non-null  float64\n",
      " 25  year              787182 non-null  int64  \n",
      " 26  genres            529660 non-null  object \n",
      "dtypes: float64(10), int64(8), object(9)\n",
      "memory usage: 162.2+ MB\n"
     ]
    }
   ],
   "source": [
    "data.info()"
   ]
  },
  {
   "cell_type": "code",
   "execution_count": null,
   "metadata": {
    "id": "EJJhPcW9j7C2"
   },
   "outputs": [],
   "source": [
    "genres = pd.read_csv('/content/drive/MyDrive/ML Group Project/Data Sets/genre_by_artist.csv')\n"
   ]
  },
  {
   "cell_type": "code",
   "execution_count": null,
   "metadata": {
    "colab": {
     "base_uri": "https://localhost:8080/"
    },
    "executionInfo": {
     "elapsed": 313,
     "status": "ok",
     "timestamp": 1606092929005,
     "user": {
      "displayName": "Dame Jankuloski",
      "photoUrl": "https://lh3.googleusercontent.com/-jn49bvHeHWQ/AAAAAAAAAAI/AAAAAAAAAJE/hZ8VjeBN_4M/s64/photo.jpg",
      "userId": "16563980759684741122"
     },
     "user_tz": 300
    },
    "id": "a2xlVh09kBMN",
    "outputId": "c9f02c65-cb6d-48af-ba15-b8d8f08b5775"
   },
   "outputs": [
    {
     "name": "stdout",
     "output_type": "stream",
     "text": [
      "25060\n",
      "['dance pop_pop_pop dance_pop rap' 'dance pop_pop_pop dance'\n",
      " 'dance pop_pop_pop dance_post-teen pop' ...\n",
      " 'anime score_japanese concert band' 'enka_j-pop_japanese city pop'\n",
      " 'bow pop_japanese classical performance_violin']\n"
     ]
    }
   ],
   "source": [
    "list_genre = data['genres'].unique()\n",
    "print(len(list_genre))\n",
    "print(list_genre)"
   ]
  },
  {
   "cell_type": "code",
   "execution_count": null,
   "metadata": {
    "id": "tYX9UYKYTS3G"
   },
   "outputs": [],
   "source": [
    "songs = pd.read_csv('/content/drive/MyDrive/ML Group Project/Data Sets/v2_with_genre.csv')"
   ]
  },
  {
   "cell_type": "code",
   "execution_count": null,
   "metadata": {
    "id": "o3llV96wTSst"
   },
   "outputs": [],
   "source": [
    "songs_id = songs[['track_id', 'track_href']].copy()\n",
    "songs_id[['release_date']] = np.NaN \n",
    "  \n"
   ]
  },
  {
   "cell_type": "markdown",
   "metadata": {
    "id": "3JsnwyJGyj5G"
   },
   "source": [
    "## Extract Release Date for songs from Spotify"
   ]
  },
  {
   "cell_type": "code",
   "execution_count": null,
   "metadata": {
    "id": "a6zJ0EyZa-JV"
   },
   "outputs": [],
   "source": [
    "folder = '/content/drive/MyDrive/ML Group Project/Data Sets/'\n",
    "bb_songs = 'bbSongs_withFeatures_v6.csv'\n",
    "non_bb_songs = 'no_bb_w_audio_feat.csv'"
   ]
  },
  {
   "cell_type": "code",
   "execution_count": null,
   "metadata": {
    "id": "parkiodZbA0B"
   },
   "outputs": [],
   "source": [
    "df_bb  = pd.read_csv(folder+bb_songs)\n",
    "df_nbb = pd.read_csv(folder+non_bb_songs)"
   ]
  },
  {
   "cell_type": "code",
   "execution_count": null,
   "metadata": {
    "id": "qwXA0qa-bkRM"
   },
   "outputs": [],
   "source": [
    "data_main = pd.read_csv(folder+\"v2_with_genre.csv\")"
   ]
  },
  {
   "cell_type": "code",
   "execution_count": null,
   "metadata": {
    "id": "0Ev3cmZyQUI2"
   },
   "outputs": [],
   "source": []
  },
  {
   "cell_type": "code",
   "execution_count": null,
   "metadata": {
    "id": "6esCUl7ycINK"
   },
   "outputs": [],
   "source": [
    "import requests\n",
    "import json \n",
    "\n",
    "df_bb['release_date'] = \"\"\n",
    "\n",
    "for index, site in enumerate(df_bb['track_href']):\n",
    "  token = \"BQAyQF2ioqRpzOnMEFbJvor_Cc8E-zxiltL17ZhNLSPajm53hkIMY-yGVij0lxnEGIakQVa6_7fmzMAamJHCxlurfWsY5QQ7ETDGlY5oqCDj4B7TKdsxkv7dHoXgU-lf-NrSHbrdl4vH-ubJ0WSKELtlVRA_mB5XYS3qTdRivdj8\"\n",
    "  header = {'access_token': token}\n",
    "  #print(site)\n",
    "  if df_bb.at[index, 'release_date']==\"\":\n",
    "    time.sleep(0.2)\n",
    "    result = requests.get(site, header)\n",
    "    #print(result)\n",
    "    data = pd.json_normalize(json.loads(result.content))\n",
    "    try:\n",
    "      #print(data['album.release_date'][0], df_bb.at[index,'track_id'])\n",
    "      df_bb.at[index,'release_date'] = data['album.release_date'][0]\n",
    "    except:\n",
    "      df_bb.at[index,'release_date'] = None\n",
    "  #df_bb_miss.at[index, 'artist_name'] = \n",
    "  #print(json.loads(data))\n"
   ]
  },
  {
   "cell_type": "code",
   "execution_count": null,
   "metadata": {
    "id": "ZuQW0uMfB7SP"
   },
   "outputs": [],
   "source": [
    "import datetime\n",
    "\n",
    "def is_date(string, format=\"%Y-%m-%d\"):\n",
    "    try: \n",
    "        datetime.datetime.strptime(string, format)\n",
    "        return True\n",
    "\n",
    "    except ValueError:\n",
    "        return False"
   ]
  },
  {
   "cell_type": "code",
   "execution_count": null,
   "metadata": {
    "colab": {
     "base_uri": "https://localhost:8080/"
    },
    "executionInfo": {
     "elapsed": 250,
     "status": "ok",
     "timestamp": 1606519808743,
     "user": {
      "displayName": "Dame Jankuloski",
      "photoUrl": "https://lh3.googleusercontent.com/-jn49bvHeHWQ/AAAAAAAAAAI/AAAAAAAAAJE/hZ8VjeBN_4M/s64/photo.jpg",
      "userId": "16563980759684741122"
     },
     "user_tz": 300
    },
    "id": "KpAtXqst7MsQ",
    "outputId": "a5bf75ae-00e4-46c3-ac88-5f8d360ad224"
   },
   "outputs": [
    {
     "name": "stdout",
     "output_type": "stream",
     "text": [
      "2009 False\n",
      "2013 False\n",
      "2009 False\n",
      "2009 False\n",
      "2008 False\n",
      "2010 False\n",
      "2009 False\n",
      "2010 False\n",
      "2010 False\n",
      "2011 False\n",
      "2011 False\n",
      "2012 False\n",
      "2011 False\n",
      "2013 False\n",
      "2012 False\n",
      "2011 False\n",
      "2012 False\n",
      "2014 False\n",
      "2012 False\n",
      "2012 False\n",
      "2015 False\n"
     ]
    }
   ],
   "source": [
    "format=\"%Y-%m-%d\"\n",
    "\n",
    "for y in df_bb['release_date']:\n",
    "  if len(y)==4:\n",
    "    print(y, is_date(y, format))\n"
   ]
  },
  {
   "cell_type": "code",
   "execution_count": null,
   "metadata": {
    "id": "iBajn8h2kbys"
   },
   "outputs": [],
   "source": [
    "df_bb['release_year'] = df_bb['release_date'].str[:4]\n",
    "df_bb['release_month'] = df_bb['release_date'].str[5:7]\n",
    "df_bb['release_day'] =df_bb['release_date'].str[8:10]"
   ]
  },
  {
   "cell_type": "code",
   "execution_count": null,
   "metadata": {
    "id": "o2QJs0bND_O7"
   },
   "outputs": [],
   "source": [
    "df_bb['release_year'] = df_bb['release_date'].str[:4]\n",
    "df_bb['release_month'] = 0\n",
    "df_bb['release_day'] = 0\n",
    "df_bb['release_week'] = 0\n",
    "\n",
    "for index, rd in enumerate(df_bb['release_date']):\n",
    "  if is_date(rd):\n",
    "    df_bb.at[index, 'release_month'] = rd[5:7]\n",
    "    df_bb.at[index, 'release_day'] = rd[8:10]\n",
    "    r_date = datetime.datetime.strptime(rd, format)\n",
    "    df_bb.at[index, 'release_week'] = r_date.isocalendar()[1]"
   ]
  },
  {
   "cell_type": "code",
   "execution_count": null,
   "metadata": {
    "id": "qih58R9Rk2nb"
   },
   "outputs": [],
   "source": [
    "df_bb_dates = df_bb[['track_id','release_date','release_year','release_month','release_day', 'release_week']].copy()"
   ]
  },
  {
   "cell_type": "code",
   "execution_count": null,
   "metadata": {
    "colab": {
     "base_uri": "https://localhost:8080/"
    },
    "executionInfo": {
     "elapsed": 257,
     "status": "ok",
     "timestamp": 1606521019137,
     "user": {
      "displayName": "Dame Jankuloski",
      "photoUrl": "https://lh3.googleusercontent.com/-jn49bvHeHWQ/AAAAAAAAAAI/AAAAAAAAAJE/hZ8VjeBN_4M/s64/photo.jpg",
      "userId": "16563980759684741122"
     },
     "user_tz": 300
    },
    "id": "QdQJsE43RBLx",
    "outputId": "778a91d4-532c-499e-a744-69c4e51fb2f7"
   },
   "outputs": [
    {
     "name": "stdout",
     "output_type": "stream",
     "text": [
      "Series([], Name: track_id, dtype: object)\n"
     ]
    }
   ],
   "source": [
    "print(df_bb_dates.loc[df_bb_dates['release_day'].isnull(),'track_id'])"
   ]
  },
  {
   "cell_type": "code",
   "execution_count": null,
   "metadata": {
    "colab": {
     "base_uri": "https://localhost:8080/"
    },
    "executionInfo": {
     "elapsed": 299,
     "status": "ok",
     "timestamp": 1606189871135,
     "user": {
      "displayName": "Dame Jankuloski",
      "photoUrl": "https://lh3.googleusercontent.com/-jn49bvHeHWQ/AAAAAAAAAAI/AAAAAAAAAJE/hZ8VjeBN_4M/s64/photo.jpg",
      "userId": "16563980759684741122"
     },
     "user_tz": 300
    },
    "id": "BV_Wnkp25Ft9",
    "outputId": "e2d55c9d-155c-4faf-cdd4-386f14eae7b0"
   },
   "outputs": [
    {
     "name": "stdout",
     "output_type": "stream",
     "text": [
      "0    2018-07-25\n",
      "Name: album.release_date, dtype: object\n"
     ]
    }
   ],
   "source": [
    "text = pd.json_normalize(json.loads(requests.get(\"https://api.spotify.com/v1/tracks/7JjPovtNiOZ27C9EOEopX8\" ,header).content))\n",
    "print(text['album.release_date'])"
   ]
  },
  {
   "cell_type": "code",
   "execution_count": null,
   "metadata": {
    "id": "ui1-eWQ27fNW"
   },
   "outputs": [],
   "source": []
  },
  {
   "cell_type": "code",
   "execution_count": null,
   "metadata": {
    "id": "r0CXAcJ2mZqk"
   },
   "outputs": [],
   "source": [
    "df_nbb['release_year'] = df_nbb['release_date'].str[:4]\n",
    "df_nbb['release_month'] = df_nbb['release_date'].str[5:7]\n",
    "df_nbb['release_day'] =df_nbb['release_date'].str[8:10]"
   ]
  },
  {
   "cell_type": "code",
   "execution_count": null,
   "metadata": {
    "id": "JmsPUfg7HY9R"
   },
   "outputs": [],
   "source": [
    "df_nbb['release_year'] = df_nbb['release_date'].str[:4]\n",
    "df_nbb['release_month'] = 0\n",
    "df_nbb['release_day'] = 0\n",
    "df_nbb['release_week'] = 0\n",
    "\n",
    "for index, rd in enumerate(df_nbb['release_date']):\n",
    "  if is_date(rd):\n",
    "    df_nbb.at[index, 'release_month'] = rd[5:7]\n",
    "    df_nbb.at[index, 'release_day'] = rd[8:10]\n",
    "    r_date = datetime.datetime.strptime(rd, format)\n",
    "    df_nbb.at[index, 'release_week'] = r_date.isocalendar()[1]"
   ]
  },
  {
   "cell_type": "code",
   "execution_count": null,
   "metadata": {
    "id": "skNEAsihmeQ3"
   },
   "outputs": [],
   "source": [
    "df_nbb_dates = df_nbb[['track_id','release_date','release_year','release_month','release_day', 'release_week']].copy()"
   ]
  },
  {
   "cell_type": "code",
   "execution_count": null,
   "metadata": {
    "colab": {
     "base_uri": "https://localhost:8080/"
    },
    "executionInfo": {
     "elapsed": 265,
     "status": "ok",
     "timestamp": 1606521242249,
     "user": {
      "displayName": "Dame Jankuloski",
      "photoUrl": "https://lh3.googleusercontent.com/-jn49bvHeHWQ/AAAAAAAAAAI/AAAAAAAAAJE/hZ8VjeBN_4M/s64/photo.jpg",
      "userId": "16563980759684741122"
     },
     "user_tz": 300
    },
    "id": "-Rom7C6BS2y-",
    "outputId": "a09f92f3-5cb6-421e-c5e3-7c9e78bf82f4"
   },
   "outputs": [
    {
     "name": "stdout",
     "output_type": "stream",
     "text": [
      "Series([], Name: release_date, dtype: object)\n"
     ]
    }
   ],
   "source": [
    "print(df_nbb_dates.loc[df_nbb_dates['release_day'].isnull(),'release_date'])"
   ]
  },
  {
   "cell_type": "code",
   "execution_count": null,
   "metadata": {
    "id": "X2p2LH0_mhCv"
   },
   "outputs": [],
   "source": [
    "df_dates = df_bb_dates.append(df_nbb_dates)"
   ]
  },
  {
   "cell_type": "code",
   "execution_count": null,
   "metadata": {
    "colab": {
     "base_uri": "https://localhost:8080/"
    },
    "executionInfo": {
     "elapsed": 367,
     "status": "ok",
     "timestamp": 1606521245956,
     "user": {
      "displayName": "Dame Jankuloski",
      "photoUrl": "https://lh3.googleusercontent.com/-jn49bvHeHWQ/AAAAAAAAAAI/AAAAAAAAAJE/hZ8VjeBN_4M/s64/photo.jpg",
      "userId": "16563980759684741122"
     },
     "user_tz": 300
    },
    "id": "eJkChA8Jt36D",
    "outputId": "f25f3f66-b4fa-4dfc-ec1d-9b2a840b852c"
   },
   "outputs": [
    {
     "name": "stdout",
     "output_type": "stream",
     "text": [
      "<class 'pandas.core.frame.DataFrame'>\n",
      "Int64Index: 1204064 entries, 0 to 1203072\n",
      "Data columns (total 6 columns):\n",
      " #   Column         Non-Null Count    Dtype \n",
      "---  ------         --------------    ----- \n",
      " 0   track_id       1204064 non-null  object\n",
      " 1   release_date   1204064 non-null  object\n",
      " 2   release_year   1204064 non-null  object\n",
      " 3   release_month  1204064 non-null  int64 \n",
      " 4   release_day    1204064 non-null  int64 \n",
      " 5   release_week   1204064 non-null  int64 \n",
      "dtypes: int64(3), object(3)\n",
      "memory usage: 64.3+ MB\n"
     ]
    }
   ],
   "source": [
    "df_dates.info()"
   ]
  },
  {
   "cell_type": "code",
   "execution_count": null,
   "metadata": {
    "id": "ShWlfjNWoquN"
   },
   "outputs": [],
   "source": [
    "#print(data['track_id'])\n",
    "df_dates_2 = df_dates[df_dates['track_id'].isin(data_main['track_id'].tolist())]"
   ]
  },
  {
   "cell_type": "code",
   "execution_count": null,
   "metadata": {
    "id": "1NMaKbdevOeo"
   },
   "outputs": [],
   "source": [
    "df_dates_2.to_csv(folder+'v4_release_dates.csv')"
   ]
  },
  {
   "cell_type": "code",
   "execution_count": null,
   "metadata": {
    "colab": {
     "base_uri": "https://localhost:8080/"
    },
    "executionInfo": {
     "elapsed": 651,
     "status": "ok",
     "timestamp": 1606189580551,
     "user": {
      "displayName": "Dame Jankuloski",
      "photoUrl": "https://lh3.googleusercontent.com/-jn49bvHeHWQ/AAAAAAAAAAI/AAAAAAAAAJE/hZ8VjeBN_4M/s64/photo.jpg",
      "userId": "16563980759684741122"
     },
     "user_tz": 300
    },
    "id": "Vrh_fwsZ31MX",
    "outputId": "d4e6c477-5412-4133-c783-e07786a85438"
   },
   "outputs": [
    {
     "name": "stdout",
     "output_type": "stream",
     "text": [
      "<class 'pandas.core.frame.DataFrame'>\n",
      "RangeIndex: 1203073 entries, 0 to 1203072\n",
      "Data columns (total 5 columns):\n",
      " #   Column         Non-Null Count    Dtype \n",
      "---  ------         --------------    ----- \n",
      " 0   track_id       1203073 non-null  object\n",
      " 1   release_date   1203073 non-null  object\n",
      " 2   release_year   1203073 non-null  object\n",
      " 3   release_month  1203073 non-null  object\n",
      " 4   release_day    1203073 non-null  object\n",
      "dtypes: object(5)\n",
      "memory usage: 45.9+ MB\n",
      "<class 'pandas.core.frame.DataFrame'>\n",
      "Int64Index: 787233 entries, 0 to 1203072\n",
      "Data columns (total 5 columns):\n",
      " #   Column         Non-Null Count   Dtype \n",
      "---  ------         --------------   ----- \n",
      " 0   track_id       787233 non-null  object\n",
      " 1   release_date   786948 non-null  object\n",
      " 2   release_year   786948 non-null  object\n",
      " 3   release_month  786948 non-null  object\n",
      " 4   release_day    786948 non-null  object\n",
      "dtypes: object(5)\n",
      "memory usage: 36.0+ MB\n"
     ]
    }
   ],
   "source": [
    "df_nbb_dates.info()\n",
    "df_dates_2.info()"
   ]
  },
  {
   "cell_type": "code",
   "execution_count": null,
   "metadata": {
    "colab": {
     "base_uri": "https://localhost:8080/",
     "height": 171
    },
    "executionInfo": {
     "elapsed": 474,
     "status": "error",
     "timestamp": 1606181460365,
     "user": {
      "displayName": "Dame Jankuloski",
      "photoUrl": "https://lh3.googleusercontent.com/-jn49bvHeHWQ/AAAAAAAAAAI/AAAAAAAAAJE/hZ8VjeBN_4M/s64/photo.jpg",
      "userId": "16563980759684741122"
     },
     "user_tz": 300
    },
    "id": "BbxMrWQ-361c",
    "outputId": "fe411678-7f5f-4462-a279-029fb53e2475"
   },
   "outputs": [
    {
     "ename": "NameError",
     "evalue": "ignored",
     "output_type": "error",
     "traceback": [
      "\u001b[0;31m---------------------------------------------------------------------------\u001b[0m",
      "\u001b[0;31mNameError\u001b[0m                                 Traceback (most recent call last)",
      "\u001b[0;32m<ipython-input-1-f9b45a810d5e>\u001b[0m in \u001b[0;36m<module>\u001b[0;34m()\u001b[0m\n\u001b[0;32m----> 1\u001b[0;31m \u001b[0mdf_dates\u001b[0m\u001b[0;34m[\u001b[0m\u001b[0;34m'release_date'\u001b[0m\u001b[0;34m]\u001b[0m\u001b[0;34m=\u001b[0m\u001b[0;36m2000\u001b[0m\u001b[0;34m\u001b[0m\u001b[0;34m\u001b[0m\u001b[0m\n\u001b[0m",
      "\u001b[0;31mNameError\u001b[0m: name 'df_dates' is not defined"
     ]
    }
   ],
   "source": [
    "df_dates['release_date']=2000"
   ]
  }
 ],
 "metadata": {
  "colab": {
   "collapsed_sections": [],
   "name": "SampleSpotipyCode.ipynb",
   "provenance": [],
   "toc_visible": true
  },
  "kernelspec": {
   "display_name": "Python 3",
   "language": "python",
   "name": "python3"
  },
  "language_info": {
   "codemirror_mode": {
    "name": "ipython",
    "version": 3
   },
   "file_extension": ".py",
   "mimetype": "text/x-python",
   "name": "python",
   "nbconvert_exporter": "python",
   "pygments_lexer": "ipython3",
   "version": "3.7.9"
  }
 },
 "nbformat": 4,
 "nbformat_minor": 1
}
