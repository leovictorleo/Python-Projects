{
 "cells": [
  {
   "cell_type": "markdown",
   "metadata": {},
   "source": [
    "# Gaming Industry: Sales Drivers for Games"
   ]
  },
  {
   "cell_type": "markdown",
   "metadata": {},
   "source": [
    "### Group Assignment - Team 7"
   ]
  },
  {
   "cell_type": "markdown",
   "metadata": {},
   "source": [
    "Cime Ajouz<br>James Janovsky<br>Rashmi Francis<br>Victor Fonseca"
   ]
  },
  {
   "cell_type": "markdown",
   "metadata": {},
   "source": [
    " _University of Toronto_"
   ]
  },
  {
   "cell_type": "markdown",
   "metadata": {},
   "source": [
    "##### Libraries"
   ]
  },
  {
   "cell_type": "code",
   "execution_count": 1,
   "metadata": {},
   "outputs": [],
   "source": [
    "from bs4 import BeautifulSoup \n",
    "import pandas as pd \n",
    "import requests\n",
    "import json\n",
    "import numpy as np\n",
    "import matplotlib.pyplot as plt\n",
    "import seaborn as sns\n",
    "%matplotlib inline"
   ]
  },
  {
   "cell_type": "markdown",
   "metadata": {},
   "source": [
    "## PART 1 - COMPLETING THE DATASET"
   ]
  },
  {
   "cell_type": "markdown",
   "metadata": {},
   "source": [
    "##### Reading Kaggle file"
   ]
  },
  {
   "cell_type": "code",
   "execution_count": 5,
   "metadata": {},
   "outputs": [
    {
     "name": "stdout",
     "output_type": "stream",
     "text": [
      "<class 'pandas.core.frame.DataFrame'>\n",
      "RangeIndex: 16598 entries, 0 to 16597\n",
      "Data columns (total 11 columns):\n",
      "Rank            16598 non-null int64\n",
      "Name            16598 non-null object\n",
      "Platform        16598 non-null object\n",
      "Year            16327 non-null Int64\n",
      "Genre           16598 non-null object\n",
      "Publisher       16540 non-null object\n",
      "NA_Sales        16598 non-null float64\n",
      "EU_Sales        16598 non-null float64\n",
      "JP_Sales        16598 non-null float64\n",
      "Other_Sales     16598 non-null float64\n",
      "Global_Sales    16598 non-null float64\n",
      "dtypes: Int64(1), float64(5), int64(1), object(4)\n",
      "memory usage: 1.4+ MB\n"
     ]
    }
   ],
   "source": [
    "games = pd.read_csv(\"vgsales.csv\", dtype = {\"Year\" : \"Int64\"})\n",
    "# games[\"Name\"] = games[\"Name\"].str.lower()\n",
    "games.loc[(games[\"Name\"].str.find('(') >= 0), \"Name\"] = \\\n",
    "        games[games[\"Name\"].str.find('(') >= 0][\"Name\"].str.split('(', expand=True)[0].str.strip()\n",
    "games[\"Name\"] = games[\"Name\"].str.replace(\"&\", \"and\")\n",
    "games.info()"
   ]
  },
  {
   "cell_type": "code",
   "execution_count": 7,
   "metadata": {},
   "outputs": [
    {
     "name": "stdout",
     "output_type": "stream",
     "text": [
      "<class 'pandas.core.frame.DataFrame'>\n",
      "RangeIndex: 16290 entries, 0 to 16289\n",
      "Data columns (total 10 columns):\n",
      "Name            16290 non-null object\n",
      "Platform        16290 non-null object\n",
      "Year            16290 non-null int64\n",
      "Genre           16290 non-null object\n",
      "Publisher       16290 non-null object\n",
      "NA_Sales        16290 non-null float64\n",
      "EU_Sales        16290 non-null float64\n",
      "JP_Sales        16290 non-null float64\n",
      "Other_Sales     16290 non-null float64\n",
      "Global_Sales    16290 non-null float64\n",
      "dtypes: float64(5), int64(1), object(4)\n",
      "memory usage: 1.2+ MB\n"
     ]
    }
   ],
   "source": [
    "games = games.groupby(['Name', 'Platform', 'Year', 'Genre', 'Publisher']).agg({\"NA_Sales\":\"sum\",\"EU_Sales\":\"sum\",\"JP_Sales\":\"sum\",\"Other_Sales\":\"sum\",\"Global_Sales\":\"sum\"}).reset_index()\n",
    "games.info()"
   ]
  },
  {
   "cell_type": "markdown",
   "metadata": {},
   "source": [
    "##### API procedure for enriching dataset with new variables"
   ]
  },
  {
   "cell_type": "code",
   "execution_count": 52,
   "metadata": {},
   "outputs": [],
   "source": [
    "# Defining funtion for searching game on RAWG API by the name declared on the core dataset\n",
    "\n",
    "def game_API(name):\n",
    "    url = f\"https://api.rawg.io/api/games?page_size=1&search={name}\"\n",
    "    game_search = requests.get(url)\n",
    "    soup = BeautifulSoup(game_search.content, \"lxml\")\n",
    "    game_data = json.loads(soup.text)\n",
    "    game_release_date = game_data[\"results\"][0]['released'] # Date when the game was released\n",
    "    game_playtime = game_data[\"results\"][0]['playtime'] # Game playtime\n",
    "    game_rating = game_data[\"results\"][0]['rating'] # Game rating, according to RAWG users\n",
    "    game_n_platforms = len(game_data[\"results\"][0]['platforms']) # Total number of platforms for which the game is licensed\n",
    "    game_search_name = game_data[\"results\"][0]['name'] # Name of the game found on the API\n",
    "    return(game_release_date,game_playtime,game_rating,game_n_platforms,game_search_name)"
   ]
  },
  {
   "cell_type": "code",
   "execution_count": null,
   "metadata": {},
   "outputs": [],
   "source": [
    "# Running a loop for executing the function for each game in the core dataset\n",
    "\n",
    "for i in range(games.shape[0]):\n",
    "    try:\n",
    "        game_data = game_API(games.loc[i,\"Name\"])\n",
    "        games.loc[i,\"API_release_date\"] = game_data[0]\n",
    "        games.loc[i,\"API_playtime\"] = game_data[1]\n",
    "        games.loc[i,\"API_rating\"] = game_data[2]\n",
    "        games.loc[i,\"API_n_platforms\"] = game_data[3]\n",
    "        games.loc[i,\"API_search_name\"] = game_data[4]\n",
    "    except:\n",
    "        print(\"error on\",i) # for games not found, print an error message\n",
    "    if (i%100 == 0):\n",
    "        print (i, \"done\")\n",
    "games.shape"
   ]
  },
  {
   "cell_type": "markdown",
   "metadata": {},
   "source": [
    "##### Save enriched dataset to CSV file "
   ]
  },
  {
   "cell_type": "code",
   "execution_count": null,
   "metadata": {},
   "outputs": [],
   "source": [
    "games.to_csv(r'games_complete_5.csv', index=False)"
   ]
  },
  {
   "cell_type": "markdown",
   "metadata": {},
   "source": [
    "## PART 2 - DATA PREPARATION"
   ]
  },
  {
   "cell_type": "markdown",
   "metadata": {},
   "source": [
    "##### Reading complete file and calculating Levenshtein distance "
   ]
  },
  {
   "cell_type": "code",
   "execution_count": 76,
   "metadata": {},
   "outputs": [
    {
     "name": "stdout",
     "output_type": "stream",
     "text": [
      "<class 'pandas.core.frame.DataFrame'>\n",
      "RangeIndex: 16199 entries, 0 to 16198\n",
      "Data columns (total 15 columns):\n",
      "Name                16199 non-null object\n",
      "Platform            16199 non-null object\n",
      "Year                16199 non-null int64\n",
      "Genre               16199 non-null object\n",
      "Publisher           16199 non-null object\n",
      "NA_Sales            16199 non-null float64\n",
      "EU_Sales            16199 non-null float64\n",
      "JP_Sales            16199 non-null float64\n",
      "Other_Sales         16199 non-null float64\n",
      "Global_Sales        16199 non-null float64\n",
      "API_release_date    15365 non-null object\n",
      "API_playtime        16160 non-null float64\n",
      "API_rating          16160 non-null float64\n",
      "API_n_platforms     16160 non-null float64\n",
      "API_search_name     16160 non-null object\n",
      "dtypes: float64(8), int64(1), object(6)\n",
      "memory usage: 1.9+ MB\n"
     ]
    }
   ],
   "source": [
    "games_prep = pd.read_csv(\"games_complete_5.csv\")\n",
    "games_prep.info()"
   ]
  },
  {
   "cell_type": "code",
   "execution_count": 77,
   "metadata": {},
   "outputs": [],
   "source": [
    "# Macro for calculating the Levenshtein distance\n",
    "\n",
    "import numpy as np\n",
    "def levenshtein_ratio_and_distance(s, t, ratio_calc = True):\n",
    "    \"\"\" levenshtein_ratio_and_distance:\n",
    "        Calculates levenshtein distance between two strings.\n",
    "        If ratio_calc = True, the function computes the\n",
    "        levenshtein distance ratio of similarity between two strings\n",
    "        For all i and j, distance[i,j] will contain the Levenshtein\n",
    "        distance between the first i characters of s and the\n",
    "        first j characters of t\n",
    "    \"\"\"\n",
    "    # Initialize matrix of zeros\n",
    "    rows = len(s)+1\n",
    "    cols = len(t)+1\n",
    "    distance = np.zeros((rows,cols),dtype = int)\n",
    "\n",
    "    # Populate matrix of zeros with the indeces of each character of both strings\n",
    "    for i in range(1, rows):\n",
    "        for k in range(1,cols):\n",
    "            distance[i][0] = i\n",
    "            distance[0][k] = k\n",
    "\n",
    "    # Iterate over the matrix to compute the cost of deletions,insertions and/or substitutions    \n",
    "    for col in range(1, cols):\n",
    "        for row in range(1, rows):\n",
    "            if s[row-1] == t[col-1]:\n",
    "                cost = 0 # If the characters are the same in the two strings in a given position [i,j] then the cost is 0\n",
    "            else:\n",
    "                # In order to align the results with those of the Python Levenshtein package, if we choose to calculate the ratio\n",
    "                # the cost of a substitution is 2. If we calculate just distance, then the cost of a substitution is 1.\n",
    "                if ratio_calc == True:\n",
    "                    cost = 2\n",
    "                else:\n",
    "                    cost = 1\n",
    "            distance[row][col] = min(distance[row-1][col] + 1,      # Cost of deletions\n",
    "                                 distance[row][col-1] + 1,          # Cost of insertions\n",
    "                                 distance[row-1][col-1] + cost)     # Cost of substitutions\n",
    "    if ratio_calc == True:\n",
    "        # Computation of the Levenshtein Distance Ratio\n",
    "        Ratio = ((len(s)+len(t)) - distance[row][col]) / (len(s)+len(t))\n",
    "        return Ratio\n",
    "    else:\n",
    "        # print(distance) # Uncomment if you want to see the matrix showing how the algorithm computes the cost of deletions,\n",
    "        # insertions and/or substitutions\n",
    "        # This is the minimum number of edits needed to convert string a to string b\n",
    "        return \"The strings are {} edits away\".format(distance[row][col])"
   ]
  },
  {
   "cell_type": "code",
   "execution_count": 78,
   "metadata": {},
   "outputs": [],
   "source": [
    "# Preparing the names for calculating the Levenshtein distance\n",
    "\n",
    "games_prep.loc[games_prep[\"API_search_name\"].isna()==True, \"API_search_name\"] = \"Not found\"\n",
    "games_prep[\"lower_Name\"] = games_prep[\"Name\"].str.lower()\n",
    "games_prep[\"lower_API_search_name\"] = games_prep[\"API_search_name\"].str.lower()"
   ]
  },
  {
   "cell_type": "code",
   "execution_count": 79,
   "metadata": {},
   "outputs": [
    {
     "data": {
      "text/plain": [
       "count    16199.000000\n",
       "mean         0.867832\n",
       "std          0.219248\n",
       "min          0.000000\n",
       "25%          0.786701\n",
       "50%          1.000000\n",
       "75%          1.000000\n",
       "max          1.000000\n",
       "Name: levenshtein, dtype: float64"
      ]
     },
     "execution_count": 79,
     "metadata": {},
     "output_type": "execute_result"
    }
   ],
   "source": [
    "# Calculating the Levenshtein distance for comparing the lowered original game name  \n",
    "# to the lowered game name found on the API\n",
    "\n",
    "games_prep[\"levenshtein\"] = games_prep.apply(lambda x:levenshtein_ratio_and_distance(x[\"lower_Name\"],x[\"lower_API_search_name\"]),axis=1)\n",
    "games_prep[\"levenshtein\"].describe()"
   ]
  },
  {
   "cell_type": "code",
   "execution_count": 80,
   "metadata": {},
   "outputs": [
    {
     "name": "stdout",
     "output_type": "stream",
     "text": [
      "12056\n",
      "11644\n",
      "11270\n",
      "10723\n"
     ]
    },
    {
     "data": {
      "image/png": "[encoded data removed]",
      "text/plain": [
       "<Figure size 432x288 with 1 Axes>"
      ]
     },
     "metadata": {
      "needs_background": "light"
     },
     "output_type": "display_data"
    }
   ],
   "source": [
    "games_prep[\"levenshtein\"].hist()\n",
    "print(sum(games_prep[\"levenshtein\"]>=0.8))\n",
    "print(sum(games_prep[\"levenshtein\"]>=0.85))\n",
    "print(sum(games_prep[\"levenshtein\"]>=0.9))\n",
    "print(sum(games_prep[\"levenshtein\"]>=0.95))"
   ]
  },
  {
   "cell_type": "code",
   "execution_count": 81,
   "metadata": {},
   "outputs": [
    {
     "data": {
      "text/plain": [
       "1025                Battlefield 2: Modern Combat(JP sales)\n",
       "2077     Chou-Kuukan Night Pro Yakyuu King(higher JP sa...\n",
       "7328        Lunar 2: Eternal Blue(sales, but wrong system)\n",
       "10636                             Puyo Pop Fever(us sales)\n",
       "10773                       RalliSport Challenge(JP sales)\n",
       "11731                         Secret Agent Clank(US sales)\n",
       "14739                          TouchMaster 3(Others sales)\n",
       "Name: Name, dtype: object"
      ]
     },
     "execution_count": 81,
     "metadata": {},
     "output_type": "execute_result"
    }
   ],
   "source": [
    "games_prep.loc[(games_prep[\"Name\"].str.find('(') >= 0), \"Name\"] "
   ]
  },
  {
   "cell_type": "code",
   "execution_count": 82,
   "metadata": {},
   "outputs": [
    {
     "data": {
      "text/plain": [
       "1025          Battlefield 2: Modern Combat\n",
       "2077     Chou-Kuukan Night Pro Yakyuu King\n",
       "7328                 Lunar 2: Eternal Blue\n",
       "10636                       Puyo Pop Fever\n",
       "10773                 RalliSport Challenge\n",
       "11731                   Secret Agent Clank\n",
       "14739                        TouchMaster 3\n",
       "Name: 0, dtype: object"
      ]
     },
     "execution_count": 82,
     "metadata": {},
     "output_type": "execute_result"
    }
   ],
   "source": [
    "games_prep[games_prep[\"Name\"].str.find('(') >= 0][\"Name\"].str.split('(', expand=True)[0].str.strip()"
   ]
  },
  {
   "cell_type": "code",
   "execution_count": 83,
   "metadata": {},
   "outputs": [
    {
     "name": "stdout",
     "output_type": "stream",
     "text": [
      "<class 'pandas.core.frame.DataFrame'>\n",
      "Int64Index: 16192 entries, 0 to 16198\n",
      "Data columns (total 18 columns):\n",
      "Name                     16192 non-null object\n",
      "Platform                 16192 non-null object\n",
      "Year                     16192 non-null int64\n",
      "Genre                    16192 non-null object\n",
      "Publisher                16192 non-null object\n",
      "NA_Sales                 16192 non-null float64\n",
      "EU_Sales                 16192 non-null float64\n",
      "JP_Sales                 16192 non-null float64\n",
      "Other_Sales              16192 non-null float64\n",
      "Global_Sales             16192 non-null float64\n",
      "API_release_date         15358 non-null object\n",
      "API_playtime             16153 non-null float64\n",
      "API_rating               16153 non-null float64\n",
      "API_n_platforms          16153 non-null float64\n",
      "API_search_name          16192 non-null object\n",
      "lower_Name               16192 non-null object\n",
      "lower_API_search_name    16192 non-null object\n",
      "levenshtein              16192 non-null float64\n",
      "dtypes: float64(9), int64(1), object(8)\n",
      "memory usage: 2.3+ MB\n"
     ]
    }
   ],
   "source": [
    "# Fixing manually records with partial sales that were not eliminated by the previous aggregation\n",
    "games_prep.loc[1022, \"JP_Sales\"] = 0.02\n",
    "games_prep.loc[2076, \"JP_Sales\"] = 0.41\n",
    "games_prep.loc[10633, \"NA_Sales\"] = 0.03\n",
    "games_prep.loc[10771, \"JP_Sales\"] = 0.01\n",
    "games_prep.loc[11730, \"NA_Sales\"] = 0.37\n",
    "games_prep.loc[11730, \"EU_Sales\"] = 0.25\n",
    "games_prep.loc[14738, \"EU_Sales\"] = 0.35\n",
    "games_prep.loc[14738, \"Other_Sales\"] = 0.06\n",
    "# Dropping records with unnecessary information\n",
    "games_prep = games_prep.drop([games_prep.index[1025],\n",
    "                              games_prep.index[2077],\n",
    "                              games_prep.index[7328],\n",
    "                              games_prep.index[10636],\n",
    "                              games_prep.index[10773],\n",
    "                              games_prep.index[11731],\n",
    "                              games_prep.index[14739]])\n",
    "games_prep.info()"
   ]
  },
  {
   "cell_type": "code",
   "execution_count": 109,
   "metadata": {},
   "outputs": [
    {
     "data": {
      "text/html": [
       "<div>\n",
       "<style scoped>\n",
       "    .dataframe tbody tr th:only-of-type {\n",
       "        vertical-align: middle;\n",
       "    }\n",
       "\n",
       "    .dataframe tbody tr th {\n",
       "        vertical-align: top;\n",
       "    }\n",
       "\n",
       "    .dataframe thead th {\n",
       "        text-align: right;\n",
       "    }\n",
       "</style>\n",
       "<table border=\"1\" class=\"dataframe\">\n",
       "  <thead>\n",
       "    <tr style=\"text-align: right;\">\n",
       "      <th></th>\n",
       "      <th>Name</th>\n",
       "      <th>API_search_name</th>\n",
       "      <th>levenshtein</th>\n",
       "    </tr>\n",
       "  </thead>\n",
       "  <tbody>\n",
       "    <tr>\n",
       "      <td>0</td>\n",
       "      <td>'98 Koshien</td>\n",
       "      <td>NaN</td>\n",
       "      <td>0.266667</td>\n",
       "    </tr>\n",
       "    <tr>\n",
       "      <td>8</td>\n",
       "      <td>.hack//Quarantine Part 4: The Final Chapter</td>\n",
       "      <td>NaN</td>\n",
       "      <td>0.716418</td>\n",
       "    </tr>\n",
       "    <tr>\n",
       "      <td>9</td>\n",
       "      <td>.hack: Sekai no Mukou ni + Versus</td>\n",
       "      <td>NaN</td>\n",
       "      <td>0.810127</td>\n",
       "    </tr>\n",
       "    <tr>\n",
       "      <td>11</td>\n",
       "      <td>007: Quantum of Solace</td>\n",
       "      <td>NaN</td>\n",
       "      <td>0.800000</td>\n",
       "    </tr>\n",
       "    <tr>\n",
       "      <td>12</td>\n",
       "      <td>007: Quantum of Solace</td>\n",
       "      <td>NaN</td>\n",
       "      <td>0.800000</td>\n",
       "    </tr>\n",
       "    <tr>\n",
       "      <td>...</td>\n",
       "      <td>...</td>\n",
       "      <td>...</td>\n",
       "      <td>...</td>\n",
       "    </tr>\n",
       "    <tr>\n",
       "      <td>16163</td>\n",
       "      <td>[Prototype 2]</td>\n",
       "      <td>NaN</td>\n",
       "      <td>0.818182</td>\n",
       "    </tr>\n",
       "    <tr>\n",
       "      <td>16173</td>\n",
       "      <td>everGirl</td>\n",
       "      <td>NaN</td>\n",
       "      <td>0.500000</td>\n",
       "    </tr>\n",
       "    <tr>\n",
       "      <td>16191</td>\n",
       "      <td>th!nk Logic Trainer</td>\n",
       "      <td>NaN</td>\n",
       "      <td>0.230769</td>\n",
       "    </tr>\n",
       "    <tr>\n",
       "      <td>16194</td>\n",
       "      <td>thinkSMART: Chess for Kids</td>\n",
       "      <td>NaN</td>\n",
       "      <td>0.266667</td>\n",
       "    </tr>\n",
       "    <tr>\n",
       "      <td>16198</td>\n",
       "      <td>¡Shin Chan Flipa en colores!</td>\n",
       "      <td>NaN</td>\n",
       "      <td>0.500000</td>\n",
       "    </tr>\n",
       "  </tbody>\n",
       "</table>\n",
       "<p>4546 rows × 3 columns</p>\n",
       "</div>"
      ],
      "text/plain": [
       "                                              Name API_search_name  \\\n",
       "0                                      '98 Koshien             NaN   \n",
       "8      .hack//Quarantine Part 4: The Final Chapter             NaN   \n",
       "9                .hack: Sekai no Mukou ni + Versus             NaN   \n",
       "11                          007: Quantum of Solace             NaN   \n",
       "12                          007: Quantum of Solace             NaN   \n",
       "...                                            ...             ...   \n",
       "16163                                [Prototype 2]             NaN   \n",
       "16173                                     everGirl             NaN   \n",
       "16191                          th!nk Logic Trainer             NaN   \n",
       "16194                   thinkSMART: Chess for Kids             NaN   \n",
       "16198                 ¡Shin Chan Flipa en colores!             NaN   \n",
       "\n",
       "       levenshtein  \n",
       "0         0.266667  \n",
       "8         0.716418  \n",
       "9         0.810127  \n",
       "11        0.800000  \n",
       "12        0.800000  \n",
       "...            ...  \n",
       "16163     0.818182  \n",
       "16173     0.500000  \n",
       "16191     0.230769  \n",
       "16194     0.266667  \n",
       "16198     0.500000  \n",
       "\n",
       "[4546 rows x 3 columns]"
      ]
     },
     "execution_count": 109,
     "metadata": {},
     "output_type": "execute_result"
    }
   ],
   "source": [
    "# Deleting information from games mismatched in the API search\n",
    "games_prep = games_prep[games_prep[\"Year\"]<2017]\n",
    "games_prep.loc[games_prep[\"levenshtein\"]<0.85, ['API_release_date','API_playtime','API_rating',\n",
    "                                            'API_n_platforms','API_search_name']] = np.nan\n",
    "games_prep[games_prep[\"levenshtein\"]<0.85][[\"Name\",\"API_search_name\",\"levenshtein\"]]"
   ]
  },
  {
   "cell_type": "code",
   "execution_count": 110,
   "metadata": {},
   "outputs": [
    {
     "data": {
      "text/plain": [
       "Nintendo DS      2099\n",
       "Playstation 2    2096\n",
       "Playstation 3    1302\n",
       "Nintendo Wii     1285\n",
       "Xbox 360         1230\n",
       "                 ... \n",
       "Sega CD             6\n",
       "3DO                 3\n",
       "TurboGrafx-16       2\n",
       "Game Gear           1\n",
       "PC-FX               1\n",
       "Name: Platform, Length: 31, dtype: int64"
      ]
     },
     "execution_count": 110,
     "metadata": {},
     "output_type": "execute_result"
    }
   ],
   "source": [
    "# Recoding the Platform names to the complete names\n",
    "games_prep.loc[games_prep[\"Platform\"]=='DS', \"Platform\"] = 'Nintendo DS'\n",
    "games_prep.loc[games_prep[\"Platform\"]=='PS2', \"Platform\"] = 'Playstation 2'\n",
    "games_prep.loc[games_prep[\"Platform\"]=='PS3', \"Platform\"] = 'Playstation 3'\n",
    "games_prep.loc[games_prep[\"Platform\"]=='Wii', \"Platform\"] = 'Nintendo Wii'\n",
    "games_prep.loc[games_prep[\"Platform\"]=='X360', \"Platform\"] = 'Xbox 360'\n",
    "games_prep.loc[games_prep[\"Platform\"]=='PS', \"Platform\"] = 'Playstation'\n",
    "games_prep.loc[games_prep[\"Platform\"]=='PSP', \"Platform\"] = 'Playstation Portable'\n",
    "games_prep.loc[games_prep[\"Platform\"]=='PC', \"Platform\"] = 'PC Engine'\n",
    "games_prep.loc[games_prep[\"Platform\"]=='XB', \"Platform\"] = 'Xbox'\n",
    "games_prep.loc[games_prep[\"Platform\"]=='GBA', \"Platform\"] = 'Game Boy Advance'\n",
    "games_prep.loc[games_prep[\"Platform\"]=='3DS', \"Platform\"] = '3DS'\n",
    "games_prep.loc[games_prep[\"Platform\"]=='PSV', \"Platform\"] = 'Playstation Vita'\n",
    "games_prep.loc[games_prep[\"Platform\"]=='PS4', \"Platform\"] = 'Playstation 4'\n",
    "games_prep.loc[games_prep[\"Platform\"]=='N64', \"Platform\"] = 'Nintendo 64'\n",
    "games_prep.loc[games_prep[\"Platform\"]=='SNES', \"Platform\"] = 'Super NES/Super Famicon'\n",
    "games_prep.loc[games_prep[\"Platform\"]=='XOne', \"Platform\"] = 'Xbox One'\n",
    "games_prep.loc[games_prep[\"Platform\"]=='SAT', \"Platform\"] = 'Saturn'\n",
    "games_prep.loc[games_prep[\"Platform\"]=='WiiU', \"Platform\"] = 'Nintendo Wii U'\n",
    "games_prep.loc[games_prep[\"Platform\"]=='2600', \"Platform\"] = 'Atari 2600'\n",
    "games_prep.loc[games_prep[\"Platform\"]=='NES', \"Platform\"] = 'NES/Famicon'\n",
    "games_prep.loc[games_prep[\"Platform\"]=='GB', \"Platform\"] = 'Game Boy'\n",
    "games_prep.loc[games_prep[\"Platform\"]=='DC', \"Platform\"] = 'Dreamcast'\n",
    "games_prep.loc[games_prep[\"Platform\"]=='GEN', \"Platform\"] = 'Genesis'\n",
    "games_prep.loc[games_prep[\"Platform\"]=='NG', \"Platform\"] = 'Neo Geo'\n",
    "games_prep.loc[games_prep[\"Platform\"]=='SCD', \"Platform\"] = 'Sega CD'\n",
    "games_prep.loc[games_prep[\"Platform\"]=='WS', \"Platform\"] = 'WonderSwan'\n",
    "games_prep.loc[games_prep[\"Platform\"]=='3DO', \"Platform\"] = '3DO'\n",
    "games_prep.loc[games_prep[\"Platform\"]=='TG16', \"Platform\"] = 'TurboGrafx-16'\n",
    "games_prep.loc[games_prep[\"Platform\"]=='PCFX', \"Platform\"] = 'PC-FX'\n",
    "games_prep.loc[games_prep[\"Platform\"]=='GG', \"Platform\"] = 'Game Gear'\n",
    "games_prep.loc[games_prep[\"Platform\"]=='GC', \"Platform\"] = 'Game Cube'\n",
    "games_prep[\"Platform\"].value_counts()"
   ]
  },
  {
   "cell_type": "code",
   "execution_count": null,
   "metadata": {},
   "outputs": [],
   "source": [
    "games_prep = games_prep.drop(['lower_Name','lower_API_search_name'], axis=1)\n",
    "games_prep.columns"
   ]
  },
  {
   "cell_type": "code",
   "execution_count": 112,
   "metadata": {},
   "outputs": [
    {
     "name": "stdout",
     "output_type": "stream",
     "text": [
      "<class 'pandas.core.frame.DataFrame'>\n",
      "Int64Index: 16188 entries, 0 to 16198\n",
      "Data columns (total 16 columns):\n",
      "Name                16188 non-null object\n",
      "Platform            16188 non-null object\n",
      "Year                16188 non-null int64\n",
      "Genre               16188 non-null object\n",
      "Publisher           16188 non-null object\n",
      "NA_Sales            16188 non-null float64\n",
      "EU_Sales            16188 non-null float64\n",
      "JP_Sales            16188 non-null float64\n",
      "Other_Sales         16188 non-null float64\n",
      "Global_Sales        16188 non-null float64\n",
      "API_release_date    11128 non-null object\n",
      "API_playtime        11642 non-null float64\n",
      "API_rating          11642 non-null float64\n",
      "API_n_platforms     11642 non-null float64\n",
      "API_search_name     11642 non-null object\n",
      "levenshtein         16188 non-null float64\n",
      "dtypes: float64(9), int64(1), object(6)\n",
      "memory usage: 2.1+ MB\n"
     ]
    }
   ],
   "source": [
    "games_prep.info()"
   ]
  },
  {
   "cell_type": "code",
   "execution_count": null,
   "metadata": {},
   "outputs": [],
   "source": []
  },
  {
   "cell_type": "markdown",
   "metadata": {},
   "source": [
    "##### Saving file to CSV"
   ]
  },
  {
   "cell_type": "code",
   "execution_count": 113,
   "metadata": {},
   "outputs": [],
   "source": [
    "games_prep.to_csv(r'games_complete_5_levenshtein.csv', index=False)"
   ]
  },
  {
   "cell_type": "markdown",
   "metadata": {},
   "source": [
    "## PART 3 - EXPLORATORY ANALYSIS"
   ]
  },
  {
   "cell_type": "code",
   "execution_count": 2,
   "metadata": {},
   "outputs": [
    {
     "name": "stdout",
     "output_type": "stream",
     "text": [
      "<class 'pandas.core.frame.DataFrame'>\n",
      "RangeIndex: 16188 entries, 0 to 16187\n",
      "Data columns (total 16 columns):\n",
      "Name                16188 non-null object\n",
      "Platform            16188 non-null object\n",
      "Year                16188 non-null int64\n",
      "Genre               16188 non-null object\n",
      "Publisher           16188 non-null object\n",
      "NA_Sales            16188 non-null float64\n",
      "EU_Sales            16188 non-null float64\n",
      "JP_Sales            16188 non-null float64\n",
      "Other_Sales         16188 non-null float64\n",
      "Global_Sales        16188 non-null float64\n",
      "API_release_date    11128 non-null object\n",
      "API_playtime        11642 non-null float64\n",
      "API_rating          11642 non-null float64\n",
      "API_n_platforms     11642 non-null float64\n",
      "API_search_name     11642 non-null object\n",
      "levenshtein         16188 non-null float64\n",
      "dtypes: float64(9), int64(1), object(6)\n",
      "memory usage: 2.0+ MB\n"
     ]
    }
   ],
   "source": [
    "games = pd.read_csv(\"games_complete_5_levenshtein.csv\")\n",
    "games.info()"
   ]
  },
  {
   "cell_type": "code",
   "execution_count": 115,
   "metadata": {},
   "outputs": [
    {
     "data": {
      "text/plain": [
       "11639"
      ]
     },
     "execution_count": 115,
     "metadata": {},
     "output_type": "execute_result"
    }
   ],
   "source": [
    "sum(games[\"levenshtein\"]>0.85)"
   ]
  },
  {
   "cell_type": "code",
   "execution_count": 98,
   "metadata": {},
   "outputs": [
    {
     "data": {
      "text/plain": [
       "array([[<matplotlib.axes._subplots.AxesSubplot object at 0x0000012E0889A8C8>]],\n",
       "      dtype=object)"
      ]
     },
     "execution_count": 98,
     "metadata": {},
     "output_type": "execute_result"
    },
    {
     "data": {
      "image/png": "[encoded data removed]",
      "text/plain": [
       "<Figure size 432x288 with 1 Axes>"
      ]
     },
     "metadata": {
      "needs_background": "light"
     },
     "output_type": "display_data"
    }
   ],
   "source": [
    "games.hist(\"levenshtein\")"
   ]
  },
  {
   "cell_type": "code",
   "execution_count": 123,
   "metadata": {},
   "outputs": [
    {
     "data": {
      "text/plain": [
       "<matplotlib.axes._subplots.AxesSubplot at 0x26dc5fcf788>"
      ]
     },
     "execution_count": 123,
     "metadata": {},
     "output_type": "execute_result"
    },
    {
     "data": {
      "image/png": "[encoded data removed]",
      "text/plain": [
       "<Figure size 1440x576 with 1 Axes>"
      ]
     },
     "metadata": {},
     "output_type": "display_data"
    }
   ],
   "source": [
    "games.boxplot(\"Global_Sales\")"
   ]
  },
  {
   "cell_type": "code",
   "execution_count": 107,
   "metadata": {},
   "outputs": [
    {
     "data": {
      "text/plain": [
       "<matplotlib.axes._subplots.AxesSubplot at 0x12e08d34b88>"
      ]
     },
     "execution_count": 107,
     "metadata": {},
     "output_type": "execute_result"
    },
    {
     "data": {
      "image/png": "[encoded data removed]",
      "text/plain": [
       "<Figure size 720x432 with 1 Axes>"
      ]
     },
     "metadata": {},
     "output_type": "display_data"
    }
   ],
   "source": [
    "global_sales = games.groupby(\"Year\").agg({\"Global_Sales\":\"sum\"})\n",
    "plt = global_sales.plot()\n",
    "plt"
   ]
  },
  {
   "cell_type": "code",
   "execution_count": 118,
   "metadata": {},
   "outputs": [
    {
     "data": {
      "text/plain": [
       "Text(0.5, 1.0, 'CHART 1 - Yearly Sales by Market')"
      ]
     },
     "execution_count": 118,
     "metadata": {},
     "output_type": "execute_result"
    },
    {
     "data": {
      "image/png": "[encoded data removed]",
      "text/plain": [
       "<Figure size 936x432 with 1 Axes>"
      ]
     },
     "metadata": {},
     "output_type": "display_data"
    }
   ],
   "source": [
    "games.groupby('Year')[['NA_Sales','EU_Sales','JP_Sales','Other_Sales']] \\\n",
    "            .agg(['sum']).plot.bar(stacked=True, figsize=(13,6)) \\\n",
    "            .set_title(\"CHART 1 - Yearly Sales by Market\")"
   ]
  },
  {
   "cell_type": "code",
   "execution_count": 48,
   "metadata": {},
   "outputs": [],
   "source": [
    "teste = games.groupby(['Platform','Genre'])\\\n",
    "    .agg({\"NA_Sales\":\"sum\", \\\n",
    "          \"EU_Sales\":[\"sum\"],\n",
    "          \"JP_Sales\":[\"sum\"],\n",
    "          \"Other_Sales\":[\"sum\"],\n",
    "          \"Global_Sales\":[\"sum\"],}) \\\n",
    "    .sort_values(by=(('Global_Sales',   'sum')), ascending=False)\n",
    "teste.to_excel(\"table3.xlsx\")"
   ]
  },
  {
   "cell_type": "code",
   "execution_count": 127,
   "metadata": {},
   "outputs": [
    {
     "data": {
      "text/html": [
       "<div>\n",
       "<style scoped>\n",
       "    .dataframe tbody tr th:only-of-type {\n",
       "        vertical-align: middle;\n",
       "    }\n",
       "\n",
       "    .dataframe tbody tr th {\n",
       "        vertical-align: top;\n",
       "    }\n",
       "\n",
       "    .dataframe thead tr th {\n",
       "        text-align: left;\n",
       "    }\n",
       "\n",
       "    .dataframe thead tr:last-of-type th {\n",
       "        text-align: right;\n",
       "    }\n",
       "</style>\n",
       "<table border=\"1\" class=\"dataframe\">\n",
       "  <thead>\n",
       "    <tr>\n",
       "      <th></th>\n",
       "      <th colspan=\"3\" halign=\"left\">Global_Sales</th>\n",
       "    </tr>\n",
       "    <tr>\n",
       "      <th></th>\n",
       "      <th>count</th>\n",
       "      <th>mean</th>\n",
       "      <th>sum</th>\n",
       "    </tr>\n",
       "    <tr>\n",
       "      <th>Genre</th>\n",
       "      <th></th>\n",
       "      <th></th>\n",
       "      <th></th>\n",
       "    </tr>\n",
       "  </thead>\n",
       "  <tbody>\n",
       "    <tr>\n",
       "      <td>Action</td>\n",
       "      <td>3235</td>\n",
       "      <td>0.532563</td>\n",
       "      <td>1722.84</td>\n",
       "    </tr>\n",
       "    <tr>\n",
       "      <td>Sports</td>\n",
       "      <td>2289</td>\n",
       "      <td>0.535824</td>\n",
       "      <td>1226.50</td>\n",
       "    </tr>\n",
       "    <tr>\n",
       "      <td>Shooter</td>\n",
       "      <td>1280</td>\n",
       "      <td>0.801719</td>\n",
       "      <td>1026.20</td>\n",
       "    </tr>\n",
       "    <tr>\n",
       "      <td>Role-Playing</td>\n",
       "      <td>1448</td>\n",
       "      <td>0.638004</td>\n",
       "      <td>923.83</td>\n",
       "    </tr>\n",
       "    <tr>\n",
       "      <td>Platform</td>\n",
       "      <td>872</td>\n",
       "      <td>0.950837</td>\n",
       "      <td>829.13</td>\n",
       "    </tr>\n",
       "    <tr>\n",
       "      <td>Misc</td>\n",
       "      <td>1679</td>\n",
       "      <td>0.470441</td>\n",
       "      <td>789.87</td>\n",
       "    </tr>\n",
       "    <tr>\n",
       "      <td>Racing</td>\n",
       "      <td>1224</td>\n",
       "      <td>0.593758</td>\n",
       "      <td>726.76</td>\n",
       "    </tr>\n",
       "    <tr>\n",
       "      <td>Fighting</td>\n",
       "      <td>825</td>\n",
       "      <td>0.538242</td>\n",
       "      <td>444.05</td>\n",
       "    </tr>\n",
       "    <tr>\n",
       "      <td>Simulation</td>\n",
       "      <td>841</td>\n",
       "      <td>0.463710</td>\n",
       "      <td>389.98</td>\n",
       "    </tr>\n",
       "    <tr>\n",
       "      <td>Puzzle</td>\n",
       "      <td>566</td>\n",
       "      <td>0.427933</td>\n",
       "      <td>242.21</td>\n",
       "    </tr>\n",
       "    <tr>\n",
       "      <td>Adventure</td>\n",
       "      <td>1271</td>\n",
       "      <td>0.184571</td>\n",
       "      <td>234.59</td>\n",
       "    </tr>\n",
       "    <tr>\n",
       "      <td>Strategy</td>\n",
       "      <td>668</td>\n",
       "      <td>0.259386</td>\n",
       "      <td>173.27</td>\n",
       "    </tr>\n",
       "  </tbody>\n",
       "</table>\n",
       "</div>"
      ],
      "text/plain": [
       "             Global_Sales                   \n",
       "                    count      mean      sum\n",
       "Genre                                       \n",
       "Action               3235  0.532563  1722.84\n",
       "Sports               2289  0.535824  1226.50\n",
       "Shooter              1280  0.801719  1026.20\n",
       "Role-Playing         1448  0.638004   923.83\n",
       "Platform              872  0.950837   829.13\n",
       "Misc                 1679  0.470441   789.87\n",
       "Racing               1224  0.593758   726.76\n",
       "Fighting              825  0.538242   444.05\n",
       "Simulation            841  0.463710   389.98\n",
       "Puzzle                566  0.427933   242.21\n",
       "Adventure            1271  0.184571   234.59\n",
       "Strategy              668  0.259386   173.27"
      ]
     },
     "execution_count": 127,
     "metadata": {},
     "output_type": "execute_result"
    }
   ],
   "source": [
    "games.groupby(\"Genre\").agg({\"Global_Sales\":[\"count\",\"mean\",\"sum\"]}).sort_values(by=('Global_Sales','sum'), ascending=False)"
   ]
  },
  {
   "cell_type": "code",
   "execution_count": 100,
   "metadata": {},
   "outputs": [
    {
     "data": {
      "text/html": [
       "<div>\n",
       "<style scoped>\n",
       "    .dataframe tbody tr th:only-of-type {\n",
       "        vertical-align: middle;\n",
       "    }\n",
       "\n",
       "    .dataframe tbody tr th {\n",
       "        vertical-align: top;\n",
       "    }\n",
       "\n",
       "    .dataframe thead tr th {\n",
       "        text-align: left;\n",
       "    }\n",
       "\n",
       "    .dataframe thead tr:last-of-type th {\n",
       "        text-align: right;\n",
       "    }\n",
       "</style>\n",
       "<table border=\"1\" class=\"dataframe\">\n",
       "  <thead>\n",
       "    <tr>\n",
       "      <th></th>\n",
       "      <th colspan=\"3\" halign=\"left\">Global_Sales</th>\n",
       "    </tr>\n",
       "    <tr>\n",
       "      <th></th>\n",
       "      <th>count</th>\n",
       "      <th>mean</th>\n",
       "      <th>sum</th>\n",
       "    </tr>\n",
       "    <tr>\n",
       "      <th>Publisher</th>\n",
       "      <th></th>\n",
       "      <th></th>\n",
       "      <th></th>\n",
       "    </tr>\n",
       "  </thead>\n",
       "  <tbody>\n",
       "    <tr>\n",
       "      <td>Nintendo</td>\n",
       "      <td>689</td>\n",
       "      <td>2.589884</td>\n",
       "      <td>1784.43</td>\n",
       "    </tr>\n",
       "    <tr>\n",
       "      <td>Electronic Arts</td>\n",
       "      <td>1330</td>\n",
       "      <td>0.822083</td>\n",
       "      <td>1093.37</td>\n",
       "    </tr>\n",
       "    <tr>\n",
       "      <td>Activision</td>\n",
       "      <td>964</td>\n",
       "      <td>0.748351</td>\n",
       "      <td>721.41</td>\n",
       "    </tr>\n",
       "    <tr>\n",
       "      <td>Sony Computer Entertainment</td>\n",
       "      <td>674</td>\n",
       "      <td>0.900193</td>\n",
       "      <td>606.73</td>\n",
       "    </tr>\n",
       "    <tr>\n",
       "      <td>Ubisoft</td>\n",
       "      <td>912</td>\n",
       "      <td>0.519232</td>\n",
       "      <td>473.54</td>\n",
       "    </tr>\n",
       "    <tr>\n",
       "      <td>Take-Two Interactive</td>\n",
       "      <td>412</td>\n",
       "      <td>0.969175</td>\n",
       "      <td>399.30</td>\n",
       "    </tr>\n",
       "    <tr>\n",
       "      <td>THQ</td>\n",
       "      <td>709</td>\n",
       "      <td>0.480169</td>\n",
       "      <td>340.44</td>\n",
       "    </tr>\n",
       "    <tr>\n",
       "      <td>Konami Digital Entertainment</td>\n",
       "      <td>811</td>\n",
       "      <td>0.343477</td>\n",
       "      <td>278.56</td>\n",
       "    </tr>\n",
       "    <tr>\n",
       "      <td>Sega</td>\n",
       "      <td>630</td>\n",
       "      <td>0.429683</td>\n",
       "      <td>270.70</td>\n",
       "    </tr>\n",
       "    <tr>\n",
       "      <td>Namco Bandai Games</td>\n",
       "      <td>919</td>\n",
       "      <td>0.276007</td>\n",
       "      <td>253.65</td>\n",
       "    </tr>\n",
       "    <tr>\n",
       "      <td>Microsoft Game Studios</td>\n",
       "      <td>188</td>\n",
       "      <td>1.307340</td>\n",
       "      <td>245.78</td>\n",
       "    </tr>\n",
       "    <tr>\n",
       "      <td>Capcom</td>\n",
       "      <td>375</td>\n",
       "      <td>0.533200</td>\n",
       "      <td>199.95</td>\n",
       "    </tr>\n",
       "    <tr>\n",
       "      <td>Atari</td>\n",
       "      <td>344</td>\n",
       "      <td>0.426657</td>\n",
       "      <td>146.77</td>\n",
       "    </tr>\n",
       "    <tr>\n",
       "      <td>Square Enix</td>\n",
       "      <td>230</td>\n",
       "      <td>0.629261</td>\n",
       "      <td>144.73</td>\n",
       "    </tr>\n",
       "    <tr>\n",
       "      <td>Warner Bros. Interactive Entertainment</td>\n",
       "      <td>216</td>\n",
       "      <td>0.657778</td>\n",
       "      <td>142.08</td>\n",
       "    </tr>\n",
       "    <tr>\n",
       "      <td>Disney Interactive Studios</td>\n",
       "      <td>214</td>\n",
       "      <td>0.554953</td>\n",
       "      <td>118.76</td>\n",
       "    </tr>\n",
       "    <tr>\n",
       "      <td>Eidos Interactive</td>\n",
       "      <td>196</td>\n",
       "      <td>0.493622</td>\n",
       "      <td>96.75</td>\n",
       "    </tr>\n",
       "    <tr>\n",
       "      <td>LucasArts</td>\n",
       "      <td>89</td>\n",
       "      <td>0.954494</td>\n",
       "      <td>84.95</td>\n",
       "    </tr>\n",
       "    <tr>\n",
       "      <td>Bethesda Softworks</td>\n",
       "      <td>69</td>\n",
       "      <td>1.181594</td>\n",
       "      <td>81.53</td>\n",
       "    </tr>\n",
       "    <tr>\n",
       "      <td>Midway Games</td>\n",
       "      <td>196</td>\n",
       "      <td>0.353520</td>\n",
       "      <td>69.29</td>\n",
       "    </tr>\n",
       "  </tbody>\n",
       "</table>\n",
       "</div>"
      ],
      "text/plain": [
       "                                       Global_Sales                   \n",
       "                                              count      mean      sum\n",
       "Publisher                                                             \n",
       "Nintendo                                        689  2.589884  1784.43\n",
       "Electronic Arts                                1330  0.822083  1093.37\n",
       "Activision                                      964  0.748351   721.41\n",
       "Sony Computer Entertainment                     674  0.900193   606.73\n",
       "Ubisoft                                         912  0.519232   473.54\n",
       "Take-Two Interactive                            412  0.969175   399.30\n",
       "THQ                                             709  0.480169   340.44\n",
       "Konami Digital Entertainment                    811  0.343477   278.56\n",
       "Sega                                            630  0.429683   270.70\n",
       "Namco Bandai Games                              919  0.276007   253.65\n",
       "Microsoft Game Studios                          188  1.307340   245.78\n",
       "Capcom                                          375  0.533200   199.95\n",
       "Atari                                           344  0.426657   146.77\n",
       "Square Enix                                     230  0.629261   144.73\n",
       "Warner Bros. Interactive Entertainment          216  0.657778   142.08\n",
       "Disney Interactive Studios                      214  0.554953   118.76\n",
       "Eidos Interactive                               196  0.493622    96.75\n",
       "LucasArts                                        89  0.954494    84.95\n",
       "Bethesda Softworks                               69  1.181594    81.53\n",
       "Midway Games                                    196  0.353520    69.29"
      ]
     },
     "execution_count": 100,
     "metadata": {},
     "output_type": "execute_result"
    }
   ],
   "source": [
    "games.groupby(\"Publisher\").agg({\"Global_Sales\":[\"count\",\"mean\",\"sum\"]}).sort_values(by=('Global_Sales','sum'), ascending=False).head(20)"
   ]
  },
  {
   "cell_type": "code",
   "execution_count": 103,
   "metadata": {},
   "outputs": [
    {
     "data": {
      "text/html": [
       "<div>\n",
       "<style scoped>\n",
       "    .dataframe tbody tr th:only-of-type {\n",
       "        vertical-align: middle;\n",
       "    }\n",
       "\n",
       "    .dataframe tbody tr th {\n",
       "        vertical-align: top;\n",
       "    }\n",
       "\n",
       "    .dataframe thead th {\n",
       "        text-align: right;\n",
       "    }\n",
       "</style>\n",
       "<table border=\"1\" class=\"dataframe\">\n",
       "  <thead>\n",
       "    <tr style=\"text-align: right;\">\n",
       "      <th>Genre</th>\n",
       "      <th>Action</th>\n",
       "      <th>Adventure</th>\n",
       "      <th>Fighting</th>\n",
       "      <th>Misc</th>\n",
       "      <th>Platform</th>\n",
       "      <th>Puzzle</th>\n",
       "      <th>Racing</th>\n",
       "      <th>Role-Playing</th>\n",
       "      <th>Shooter</th>\n",
       "      <th>Simulation</th>\n",
       "      <th>Sports</th>\n",
       "      <th>Strategy</th>\n",
       "    </tr>\n",
       "    <tr>\n",
       "      <th>Platform</th>\n",
       "      <th></th>\n",
       "      <th></th>\n",
       "      <th></th>\n",
       "      <th></th>\n",
       "      <th></th>\n",
       "      <th></th>\n",
       "      <th></th>\n",
       "      <th></th>\n",
       "      <th></th>\n",
       "      <th></th>\n",
       "      <th></th>\n",
       "      <th></th>\n",
       "    </tr>\n",
       "  </thead>\n",
       "  <tbody>\n",
       "    <tr>\n",
       "      <td>3DO</td>\n",
       "      <td>0.00</td>\n",
       "      <td>0.06</td>\n",
       "      <td>0.00</td>\n",
       "      <td>0.00</td>\n",
       "      <td>0.00</td>\n",
       "      <td>0.02</td>\n",
       "      <td>0.00</td>\n",
       "      <td>0.00</td>\n",
       "      <td>0.00</td>\n",
       "      <td>0.02</td>\n",
       "      <td>0.00</td>\n",
       "      <td>0.00</td>\n",
       "    </tr>\n",
       "    <tr>\n",
       "      <td>3DS</td>\n",
       "      <td>56.61</td>\n",
       "      <td>4.73</td>\n",
       "      <td>10.46</td>\n",
       "      <td>10.48</td>\n",
       "      <td>32.23</td>\n",
       "      <td>5.56</td>\n",
       "      <td>14.41</td>\n",
       "      <td>75.71</td>\n",
       "      <td>1.22</td>\n",
       "      <td>26.59</td>\n",
       "      <td>6.18</td>\n",
       "      <td>2.09</td>\n",
       "    </tr>\n",
       "    <tr>\n",
       "      <td>Atari 2600</td>\n",
       "      <td>26.39</td>\n",
       "      <td>0.40</td>\n",
       "      <td>0.77</td>\n",
       "      <td>3.58</td>\n",
       "      <td>13.27</td>\n",
       "      <td>13.65</td>\n",
       "      <td>2.32</td>\n",
       "      <td>0.00</td>\n",
       "      <td>22.97</td>\n",
       "      <td>0.45</td>\n",
       "      <td>2.77</td>\n",
       "      <td>0.00</td>\n",
       "    </tr>\n",
       "    <tr>\n",
       "      <td>Dreamcast</td>\n",
       "      <td>1.26</td>\n",
       "      <td>2.50</td>\n",
       "      <td>1.83</td>\n",
       "      <td>0.00</td>\n",
       "      <td>2.54</td>\n",
       "      <td>0.00</td>\n",
       "      <td>2.65</td>\n",
       "      <td>0.68</td>\n",
       "      <td>0.33</td>\n",
       "      <td>0.52</td>\n",
       "      <td>3.66</td>\n",
       "      <td>0.00</td>\n",
       "    </tr>\n",
       "    <tr>\n",
       "      <td>Game Boy</td>\n",
       "      <td>7.92</td>\n",
       "      <td>17.16</td>\n",
       "      <td>0.00</td>\n",
       "      <td>13.35</td>\n",
       "      <td>53.88</td>\n",
       "      <td>47.47</td>\n",
       "      <td>4.55</td>\n",
       "      <td>88.24</td>\n",
       "      <td>1.20</td>\n",
       "      <td>3.55</td>\n",
       "      <td>9.05</td>\n",
       "      <td>8.05</td>\n",
       "    </tr>\n",
       "    <tr>\n",
       "      <td>Game Boy Advance</td>\n",
       "      <td>54.26</td>\n",
       "      <td>12.10</td>\n",
       "      <td>4.21</td>\n",
       "      <td>28.50</td>\n",
       "      <td>78.08</td>\n",
       "      <td>12.09</td>\n",
       "      <td>18.80</td>\n",
       "      <td>64.21</td>\n",
       "      <td>3.60</td>\n",
       "      <td>5.91</td>\n",
       "      <td>16.41</td>\n",
       "      <td>7.45</td>\n",
       "    </tr>\n",
       "    <tr>\n",
       "      <td>Game Cube</td>\n",
       "      <td>37.25</td>\n",
       "      <td>5.93</td>\n",
       "      <td>18.43</td>\n",
       "      <td>16.45</td>\n",
       "      <td>28.66</td>\n",
       "      <td>4.57</td>\n",
       "      <td>21.79</td>\n",
       "      <td>13.03</td>\n",
       "      <td>13.63</td>\n",
       "      <td>8.59</td>\n",
       "      <td>24.49</td>\n",
       "      <td>4.32</td>\n",
       "    </tr>\n",
       "    <tr>\n",
       "      <td>Game Gear</td>\n",
       "      <td>0.00</td>\n",
       "      <td>0.00</td>\n",
       "      <td>0.00</td>\n",
       "      <td>0.00</td>\n",
       "      <td>0.04</td>\n",
       "      <td>0.00</td>\n",
       "      <td>0.00</td>\n",
       "      <td>0.00</td>\n",
       "      <td>0.00</td>\n",
       "      <td>0.00</td>\n",
       "      <td>0.00</td>\n",
       "      <td>0.00</td>\n",
       "    </tr>\n",
       "    <tr>\n",
       "      <td>Genesis</td>\n",
       "      <td>2.74</td>\n",
       "      <td>0.19</td>\n",
       "      <td>5.90</td>\n",
       "      <td>0.03</td>\n",
       "      <td>15.45</td>\n",
       "      <td>0.00</td>\n",
       "      <td>0.26</td>\n",
       "      <td>0.27</td>\n",
       "      <td>0.13</td>\n",
       "      <td>0.00</td>\n",
       "      <td>3.20</td>\n",
       "      <td>0.19</td>\n",
       "    </tr>\n",
       "    <tr>\n",
       "      <td>NES/Famicon</td>\n",
       "      <td>28.75</td>\n",
       "      <td>4.38</td>\n",
       "      <td>6.54</td>\n",
       "      <td>3.59</td>\n",
       "      <td>95.78</td>\n",
       "      <td>21.00</td>\n",
       "      <td>9.78</td>\n",
       "      <td>18.78</td>\n",
       "      <td>35.62</td>\n",
       "      <td>0.00</td>\n",
       "      <td>26.85</td>\n",
       "      <td>0.00</td>\n",
       "    </tr>\n",
       "    <tr>\n",
       "      <td>Neo Geo</td>\n",
       "      <td>0.00</td>\n",
       "      <td>0.00</td>\n",
       "      <td>1.42</td>\n",
       "      <td>0.00</td>\n",
       "      <td>0.00</td>\n",
       "      <td>0.00</td>\n",
       "      <td>0.00</td>\n",
       "      <td>0.00</td>\n",
       "      <td>0.00</td>\n",
       "      <td>0.00</td>\n",
       "      <td>0.02</td>\n",
       "      <td>0.00</td>\n",
       "    </tr>\n",
       "    <tr>\n",
       "      <td>Nintendo 64</td>\n",
       "      <td>29.44</td>\n",
       "      <td>0.45</td>\n",
       "      <td>22.08</td>\n",
       "      <td>11.19</td>\n",
       "      <td>36.13</td>\n",
       "      <td>3.41</td>\n",
       "      <td>40.09</td>\n",
       "      <td>3.03</td>\n",
       "      <td>19.27</td>\n",
       "      <td>10.19</td>\n",
       "      <td>32.60</td>\n",
       "      <td>10.33</td>\n",
       "    </tr>\n",
       "    <tr>\n",
       "      <td>Nintendo DS</td>\n",
       "      <td>114.16</td>\n",
       "      <td>47.15</td>\n",
       "      <td>7.20</td>\n",
       "      <td>137.67</td>\n",
       "      <td>77.40</td>\n",
       "      <td>83.87</td>\n",
       "      <td>38.58</td>\n",
       "      <td>126.56</td>\n",
       "      <td>8.20</td>\n",
       "      <td>131.65</td>\n",
       "      <td>31.71</td>\n",
       "      <td>14.76</td>\n",
       "    </tr>\n",
       "    <tr>\n",
       "      <td>Nintendo Wii</td>\n",
       "      <td>110.48</td>\n",
       "      <td>18.33</td>\n",
       "      <td>23.82</td>\n",
       "      <td>217.43</td>\n",
       "      <td>90.68</td>\n",
       "      <td>15.63</td>\n",
       "      <td>61.24</td>\n",
       "      <td>14.06</td>\n",
       "      <td>26.34</td>\n",
       "      <td>36.62</td>\n",
       "      <td>289.95</td>\n",
       "      <td>5.23</td>\n",
       "    </tr>\n",
       "    <tr>\n",
       "      <td>Nintendo Wii U</td>\n",
       "      <td>19.35</td>\n",
       "      <td>0.17</td>\n",
       "      <td>6.36</td>\n",
       "      <td>12.23</td>\n",
       "      <td>21.24</td>\n",
       "      <td>1.33</td>\n",
       "      <td>7.77</td>\n",
       "      <td>2.47</td>\n",
       "      <td>6.17</td>\n",
       "      <td>0.21</td>\n",
       "      <td>3.32</td>\n",
       "      <td>1.24</td>\n",
       "    </tr>\n",
       "    <tr>\n",
       "      <td>PC Engine</td>\n",
       "      <td>30.67</td>\n",
       "      <td>10.09</td>\n",
       "      <td>0.14</td>\n",
       "      <td>8.41</td>\n",
       "      <td>0.49</td>\n",
       "      <td>0.92</td>\n",
       "      <td>3.80</td>\n",
       "      <td>47.37</td>\n",
       "      <td>43.44</td>\n",
       "      <td>51.73</td>\n",
       "      <td>12.01</td>\n",
       "      <td>45.63</td>\n",
       "    </tr>\n",
       "    <tr>\n",
       "      <td>PC-FX</td>\n",
       "      <td>0.00</td>\n",
       "      <td>0.00</td>\n",
       "      <td>0.00</td>\n",
       "      <td>0.00</td>\n",
       "      <td>0.00</td>\n",
       "      <td>0.00</td>\n",
       "      <td>0.00</td>\n",
       "      <td>0.03</td>\n",
       "      <td>0.00</td>\n",
       "      <td>0.00</td>\n",
       "      <td>0.00</td>\n",
       "      <td>0.00</td>\n",
       "    </tr>\n",
       "    <tr>\n",
       "      <td>Playstation</td>\n",
       "      <td>125.74</td>\n",
       "      <td>20.77</td>\n",
       "      <td>72.68</td>\n",
       "      <td>44.90</td>\n",
       "      <td>64.21</td>\n",
       "      <td>12.08</td>\n",
       "      <td>102.89</td>\n",
       "      <td>78.30</td>\n",
       "      <td>39.31</td>\n",
       "      <td>25.33</td>\n",
       "      <td>119.51</td>\n",
       "      <td>21.67</td>\n",
       "    </tr>\n",
       "    <tr>\n",
       "      <td>Playstation 2</td>\n",
       "      <td>272.43</td>\n",
       "      <td>21.16</td>\n",
       "      <td>89.19</td>\n",
       "      <td>98.69</td>\n",
       "      <td>72.11</td>\n",
       "      <td>5.90</td>\n",
       "      <td>154.21</td>\n",
       "      <td>91.55</td>\n",
       "      <td>108.28</td>\n",
       "      <td>42.26</td>\n",
       "      <td>262.64</td>\n",
       "      <td>15.04</td>\n",
       "    </tr>\n",
       "    <tr>\n",
       "      <td>Playstation 3</td>\n",
       "      <td>304.02</td>\n",
       "      <td>22.87</td>\n",
       "      <td>51.70</td>\n",
       "      <td>45.91</td>\n",
       "      <td>29.85</td>\n",
       "      <td>0.46</td>\n",
       "      <td>73.10</td>\n",
       "      <td>75.24</td>\n",
       "      <td>195.80</td>\n",
       "      <td>10.72</td>\n",
       "      <td>134.91</td>\n",
       "      <td>4.77</td>\n",
       "    </tr>\n",
       "    <tr>\n",
       "      <td>Playstation 4</td>\n",
       "      <td>87.06</td>\n",
       "      <td>4.70</td>\n",
       "      <td>8.04</td>\n",
       "      <td>7.40</td>\n",
       "      <td>7.01</td>\n",
       "      <td>0.02</td>\n",
       "      <td>11.53</td>\n",
       "      <td>25.77</td>\n",
       "      <td>75.32</td>\n",
       "      <td>0.77</td>\n",
       "      <td>50.07</td>\n",
       "      <td>0.41</td>\n",
       "    </tr>\n",
       "    <tr>\n",
       "      <td>Playstation Portable</td>\n",
       "      <td>62.66</td>\n",
       "      <td>10.69</td>\n",
       "      <td>21.88</td>\n",
       "      <td>13.70</td>\n",
       "      <td>17.28</td>\n",
       "      <td>5.52</td>\n",
       "      <td>34.73</td>\n",
       "      <td>49.01</td>\n",
       "      <td>19.77</td>\n",
       "      <td>6.28</td>\n",
       "      <td>39.90</td>\n",
       "      <td>10.29</td>\n",
       "    </tr>\n",
       "    <tr>\n",
       "      <td>Playstation Vita</td>\n",
       "      <td>20.00</td>\n",
       "      <td>4.16</td>\n",
       "      <td>3.15</td>\n",
       "      <td>5.18</td>\n",
       "      <td>3.03</td>\n",
       "      <td>0.20</td>\n",
       "      <td>2.95</td>\n",
       "      <td>13.09</td>\n",
       "      <td>4.57</td>\n",
       "      <td>0.08</td>\n",
       "      <td>4.88</td>\n",
       "      <td>0.31</td>\n",
       "    </tr>\n",
       "    <tr>\n",
       "      <td>Saturn</td>\n",
       "      <td>0.65</td>\n",
       "      <td>4.16</td>\n",
       "      <td>8.52</td>\n",
       "      <td>1.20</td>\n",
       "      <td>0.76</td>\n",
       "      <td>1.00</td>\n",
       "      <td>2.40</td>\n",
       "      <td>3.76</td>\n",
       "      <td>3.98</td>\n",
       "      <td>1.13</td>\n",
       "      <td>2.79</td>\n",
       "      <td>3.24</td>\n",
       "    </tr>\n",
       "    <tr>\n",
       "      <td>Sega CD</td>\n",
       "      <td>0.00</td>\n",
       "      <td>0.00</td>\n",
       "      <td>0.00</td>\n",
       "      <td>0.10</td>\n",
       "      <td>1.50</td>\n",
       "      <td>0.00</td>\n",
       "      <td>0.07</td>\n",
       "      <td>0.06</td>\n",
       "      <td>0.00</td>\n",
       "      <td>0.00</td>\n",
       "      <td>0.00</td>\n",
       "      <td>0.14</td>\n",
       "    </tr>\n",
       "    <tr>\n",
       "      <td>Super NES/Super Famicon</td>\n",
       "      <td>10.08</td>\n",
       "      <td>1.50</td>\n",
       "      <td>26.95</td>\n",
       "      <td>5.02</td>\n",
       "      <td>65.65</td>\n",
       "      <td>6.38</td>\n",
       "      <td>13.49</td>\n",
       "      <td>36.43</td>\n",
       "      <td>6.07</td>\n",
       "      <td>5.63</td>\n",
       "      <td>17.87</td>\n",
       "      <td>4.98</td>\n",
       "    </tr>\n",
       "    <tr>\n",
       "      <td>TurboGrafx-16</td>\n",
       "      <td>0.00</td>\n",
       "      <td>0.14</td>\n",
       "      <td>0.00</td>\n",
       "      <td>0.00</td>\n",
       "      <td>0.00</td>\n",
       "      <td>0.00</td>\n",
       "      <td>0.00</td>\n",
       "      <td>0.00</td>\n",
       "      <td>0.02</td>\n",
       "      <td>0.00</td>\n",
       "      <td>0.00</td>\n",
       "      <td>0.00</td>\n",
       "    </tr>\n",
       "    <tr>\n",
       "      <td>WonderSwan</td>\n",
       "      <td>0.00</td>\n",
       "      <td>0.00</td>\n",
       "      <td>0.00</td>\n",
       "      <td>0.00</td>\n",
       "      <td>0.00</td>\n",
       "      <td>0.00</td>\n",
       "      <td>0.00</td>\n",
       "      <td>1.22</td>\n",
       "      <td>0.00</td>\n",
       "      <td>0.00</td>\n",
       "      <td>0.00</td>\n",
       "      <td>0.20</td>\n",
       "    </tr>\n",
       "    <tr>\n",
       "      <td>Xbox</td>\n",
       "      <td>47.46</td>\n",
       "      <td>3.06</td>\n",
       "      <td>12.83</td>\n",
       "      <td>8.67</td>\n",
       "      <td>9.66</td>\n",
       "      <td>0.42</td>\n",
       "      <td>31.42</td>\n",
       "      <td>13.51</td>\n",
       "      <td>62.12</td>\n",
       "      <td>7.11</td>\n",
       "      <td>53.05</td>\n",
       "      <td>2.78</td>\n",
       "    </tr>\n",
       "    <tr>\n",
       "      <td>Xbox 360</td>\n",
       "      <td>239.67</td>\n",
       "      <td>15.23</td>\n",
       "      <td>37.64</td>\n",
       "      <td>89.33</td>\n",
       "      <td>11.39</td>\n",
       "      <td>0.71</td>\n",
       "      <td>65.13</td>\n",
       "      <td>71.97</td>\n",
       "      <td>277.23</td>\n",
       "      <td>14.10</td>\n",
       "      <td>137.43</td>\n",
       "      <td>9.77</td>\n",
       "    </tr>\n",
       "    <tr>\n",
       "      <td>Xbox One</td>\n",
       "      <td>33.79</td>\n",
       "      <td>2.51</td>\n",
       "      <td>2.31</td>\n",
       "      <td>6.86</td>\n",
       "      <td>0.81</td>\n",
       "      <td>0.00</td>\n",
       "      <td>8.80</td>\n",
       "      <td>9.48</td>\n",
       "      <td>51.61</td>\n",
       "      <td>0.54</td>\n",
       "      <td>23.97</td>\n",
       "      <td>0.38</td>\n",
       "    </tr>\n",
       "  </tbody>\n",
       "</table>\n",
       "</div>"
      ],
      "text/plain": [
       "Genre                    Action  Adventure  Fighting    Misc  Platform  \\\n",
       "Platform                                                                 \n",
       "3DO                        0.00       0.06      0.00    0.00      0.00   \n",
       "3DS                       56.61       4.73     10.46   10.48     32.23   \n",
       "Atari 2600                26.39       0.40      0.77    3.58     13.27   \n",
       "Dreamcast                  1.26       2.50      1.83    0.00      2.54   \n",
       "Game Boy                   7.92      17.16      0.00   13.35     53.88   \n",
       "Game Boy Advance          54.26      12.10      4.21   28.50     78.08   \n",
       "Game Cube                 37.25       5.93     18.43   16.45     28.66   \n",
       "Game Gear                  0.00       0.00      0.00    0.00      0.04   \n",
       "Genesis                    2.74       0.19      5.90    0.03     15.45   \n",
       "NES/Famicon               28.75       4.38      6.54    3.59     95.78   \n",
       "Neo Geo                    0.00       0.00      1.42    0.00      0.00   \n",
       "Nintendo 64               29.44       0.45     22.08   11.19     36.13   \n",
       "Nintendo DS              114.16      47.15      7.20  137.67     77.40   \n",
       "Nintendo Wii             110.48      18.33     23.82  217.43     90.68   \n",
       "Nintendo Wii U            19.35       0.17      6.36   12.23     21.24   \n",
       "PC Engine                 30.67      10.09      0.14    8.41      0.49   \n",
       "PC-FX                      0.00       0.00      0.00    0.00      0.00   \n",
       "Playstation              125.74      20.77     72.68   44.90     64.21   \n",
       "Playstation 2            272.43      21.16     89.19   98.69     72.11   \n",
       "Playstation 3            304.02      22.87     51.70   45.91     29.85   \n",
       "Playstation 4             87.06       4.70      8.04    7.40      7.01   \n",
       "Playstation Portable      62.66      10.69     21.88   13.70     17.28   \n",
       "Playstation Vita          20.00       4.16      3.15    5.18      3.03   \n",
       "Saturn                     0.65       4.16      8.52    1.20      0.76   \n",
       "Sega CD                    0.00       0.00      0.00    0.10      1.50   \n",
       "Super NES/Super Famicon   10.08       1.50     26.95    5.02     65.65   \n",
       "TurboGrafx-16              0.00       0.14      0.00    0.00      0.00   \n",
       "WonderSwan                 0.00       0.00      0.00    0.00      0.00   \n",
       "Xbox                      47.46       3.06     12.83    8.67      9.66   \n",
       "Xbox 360                 239.67      15.23     37.64   89.33     11.39   \n",
       "Xbox One                  33.79       2.51      2.31    6.86      0.81   \n",
       "\n",
       "Genre                    Puzzle  Racing  Role-Playing  Shooter  Simulation  \\\n",
       "Platform                                                                     \n",
       "3DO                        0.02    0.00          0.00     0.00        0.02   \n",
       "3DS                        5.56   14.41         75.71     1.22       26.59   \n",
       "Atari 2600                13.65    2.32          0.00    22.97        0.45   \n",
       "Dreamcast                  0.00    2.65          0.68     0.33        0.52   \n",
       "Game Boy                  47.47    4.55         88.24     1.20        3.55   \n",
       "Game Boy Advance          12.09   18.80         64.21     3.60        5.91   \n",
       "Game Cube                  4.57   21.79         13.03    13.63        8.59   \n",
       "Game Gear                  0.00    0.00          0.00     0.00        0.00   \n",
       "Genesis                    0.00    0.26          0.27     0.13        0.00   \n",
       "NES/Famicon               21.00    9.78         18.78    35.62        0.00   \n",
       "Neo Geo                    0.00    0.00          0.00     0.00        0.00   \n",
       "Nintendo 64                3.41   40.09          3.03    19.27       10.19   \n",
       "Nintendo DS               83.87   38.58        126.56     8.20      131.65   \n",
       "Nintendo Wii              15.63   61.24         14.06    26.34       36.62   \n",
       "Nintendo Wii U             1.33    7.77          2.47     6.17        0.21   \n",
       "PC Engine                  0.92    3.80         47.37    43.44       51.73   \n",
       "PC-FX                      0.00    0.00          0.03     0.00        0.00   \n",
       "Playstation               12.08  102.89         78.30    39.31       25.33   \n",
       "Playstation 2              5.90  154.21         91.55   108.28       42.26   \n",
       "Playstation 3              0.46   73.10         75.24   195.80       10.72   \n",
       "Playstation 4              0.02   11.53         25.77    75.32        0.77   \n",
       "Playstation Portable       5.52   34.73         49.01    19.77        6.28   \n",
       "Playstation Vita           0.20    2.95         13.09     4.57        0.08   \n",
       "Saturn                     1.00    2.40          3.76     3.98        1.13   \n",
       "Sega CD                    0.00    0.07          0.06     0.00        0.00   \n",
       "Super NES/Super Famicon    6.38   13.49         36.43     6.07        5.63   \n",
       "TurboGrafx-16              0.00    0.00          0.00     0.02        0.00   \n",
       "WonderSwan                 0.00    0.00          1.22     0.00        0.00   \n",
       "Xbox                       0.42   31.42         13.51    62.12        7.11   \n",
       "Xbox 360                   0.71   65.13         71.97   277.23       14.10   \n",
       "Xbox One                   0.00    8.80          9.48    51.61        0.54   \n",
       "\n",
       "Genre                    Sports  Strategy  \n",
       "Platform                                   \n",
       "3DO                        0.00      0.00  \n",
       "3DS                        6.18      2.09  \n",
       "Atari 2600                 2.77      0.00  \n",
       "Dreamcast                  3.66      0.00  \n",
       "Game Boy                   9.05      8.05  \n",
       "Game Boy Advance          16.41      7.45  \n",
       "Game Cube                 24.49      4.32  \n",
       "Game Gear                  0.00      0.00  \n",
       "Genesis                    3.20      0.19  \n",
       "NES/Famicon               26.85      0.00  \n",
       "Neo Geo                    0.02      0.00  \n",
       "Nintendo 64               32.60     10.33  \n",
       "Nintendo DS               31.71     14.76  \n",
       "Nintendo Wii             289.95      5.23  \n",
       "Nintendo Wii U             3.32      1.24  \n",
       "PC Engine                 12.01     45.63  \n",
       "PC-FX                      0.00      0.00  \n",
       "Playstation              119.51     21.67  \n",
       "Playstation 2            262.64     15.04  \n",
       "Playstation 3            134.91      4.77  \n",
       "Playstation 4             50.07      0.41  \n",
       "Playstation Portable      39.90     10.29  \n",
       "Playstation Vita           4.88      0.31  \n",
       "Saturn                     2.79      3.24  \n",
       "Sega CD                    0.00      0.14  \n",
       "Super NES/Super Famicon   17.87      4.98  \n",
       "TurboGrafx-16              0.00      0.00  \n",
       "WonderSwan                 0.00      0.20  \n",
       "Xbox                      53.05      2.78  \n",
       "Xbox 360                 137.43      9.77  \n",
       "Xbox One                  23.97      0.38  "
      ]
     },
     "execution_count": 103,
     "metadata": {},
     "output_type": "execute_result"
    }
   ],
   "source": [
    "pivot_sales = games.groupby([\"Platform\",\"Genre\"]).agg({\"Global_Sales\":\"sum\"}).sort_values(by='Global_Sales', ascending=False)\n",
    "pivot_sales = pd.pivot_table(pivot_sales, values='Global_Sales', index='Platform', columns='Genre', aggfunc=np.sum).fillna(0)\n",
    "pivot_sales"
   ]
  },
  {
   "cell_type": "code",
   "execution_count": 23,
   "metadata": {},
   "outputs": [
    {
     "data": {
      "text/plain": [
       "<matplotlib.axes._subplots.AxesSubplot at 0x2463b152888>"
      ]
     },
     "execution_count": 23,
     "metadata": {},
     "output_type": "execute_result"
    },
    {
     "data": {
      "image/png": "[encoded data removed]",
      "text/plain": [
       "<Figure size 1152x576 with 1 Axes>"
      ]
     },
     "metadata": {},
     "output_type": "display_data"
    }
   ],
   "source": [
    "import matplotlib.pyplot as plt\n",
    "plt.rc('figure', figsize=(10, 6))\n",
    "np.set_printoptions(precision=4)\n",
    "pd.options.display.max_rows = 10\n",
    "plt.style.use(style='ggplot')\n",
    "from matplotlib.colors import ListedColormap\n",
    "\n",
    "pivot_sales = games[games['Year']>2010].groupby([\"Platform\",\"Genre\"]).agg({\"Global_Sales\":\"sum\"}).sort_values(by='Global_Sales', ascending=False)\n",
    "pivot_sales = pd.pivot_table(pivot_sales, values='Global_Sales', index='Platform', columns='Genre', aggfunc=np.sum).fillna(0)\n",
    "pivot_sales[\"Total\"] = pivot_sales['Action'] + pivot_sales['Adventure'] + pivot_sales['Fighting'] + pivot_sales['Misc'] + pivot_sales['Platform'] + pivot_sales['Puzzle'] + pivot_sales['Racing'] + pivot_sales['Role-Playing'] + pivot_sales['Shooter'] + pivot_sales['Simulation'] + pivot_sales['Sports'] + pivot_sales['Strategy']\n",
    "pivot_sales.columns\n",
    "pivot_sales['Action'] = pivot_sales['Action'] / pivot_sales['Total']\n",
    "pivot_sales['Adventure'] = pivot_sales['Adventure'] / pivot_sales['Total']\n",
    "pivot_sales['Fighting'] = pivot_sales['Fighting'] / pivot_sales['Total']\n",
    "pivot_sales['Misc'] = pivot_sales['Misc'] / pivot_sales['Total']\n",
    "pivot_sales['Platform'] = pivot_sales['Platform'] / pivot_sales['Total']\n",
    "pivot_sales['Puzzle'] = pivot_sales['Puzzle'] / pivot_sales['Total']\n",
    "pivot_sales['Racing'] = pivot_sales['Racing'] / pivot_sales['Total']\n",
    "pivot_sales['Role-Playing'] = pivot_sales['Role-Playing'] / pivot_sales['Total']\n",
    "pivot_sales['Shooter'] = pivot_sales['Shooter'] / pivot_sales['Total']\n",
    "pivot_sales['Simulation'] = pivot_sales['Simulation'] / pivot_sales['Total']\n",
    "pivot_sales['Sports'] = pivot_sales['Sports'] / pivot_sales['Total']\n",
    "pivot_sales['Strategy'] = pivot_sales['Strategy'] / pivot_sales['Total']\n",
    "genre_plat = pivot_sales[['Action', 'Adventure', 'Fighting', 'Misc', 'Platform', 'Puzzle',\n",
    "       'Racing', 'Role-Playing', 'Shooter', 'Simulation', 'Sports', 'Strategy']] \\\n",
    "        .plot(kind='bar',stacked=True, figsize=(16,8), colormap=ListedColormap(sns.color_palette(\"Paired\", 12)))\n",
    "genre_plat.set_title(\"CHART 2 - Games sales by genre and platform (%), from 2010 to 2016\")\n",
    "genre_plat.legend(bbox_to_anchor=(1, 1))\n",
    "genre_plat"
   ]
  },
  {
   "cell_type": "code",
   "execution_count": 123,
   "metadata": {},
   "outputs": [
    {
     "data": {
      "text/plain": [
       "<matplotlib.axes._subplots.AxesSubplot at 0x12e0ce510c8>"
      ]
     },
     "execution_count": 123,
     "metadata": {},
     "output_type": "execute_result"
    },
    {
     "data": {
      "image/png": "[encoded data removed]",
      "text/plain": [
       "<Figure size 936x432 with 1 Axes>"
      ]
     },
     "metadata": {},
     "output_type": "display_data"
    }
   ],
   "source": [
    "games.groupby('Genre')[['NA_Sales','EU_Sales','JP_Sales','Other_Sales']] \\\n",
    "    .agg(['sum']).plot.bar(stacked=True, figsize=(13,6))"
   ]
  },
  {
   "cell_type": "code",
   "execution_count": 124,
   "metadata": {},
   "outputs": [
    {
     "data": {
      "text/plain": [
       "<matplotlib.axes._subplots.AxesSubplot at 0x12e0da4b808>"
      ]
     },
     "execution_count": 124,
     "metadata": {},
     "output_type": "execute_result"
    },
    {
     "data": {
      "image/png": "[encoded data removed]",
      "text/plain": [
       "<Figure size 936x432 with 1 Axes>"
      ]
     },
     "metadata": {},
     "output_type": "display_data"
    }
   ],
   "source": [
    "games.groupby('Platform')[['NA_Sales','EU_Sales','JP_Sales','Other_Sales']] \\\n",
    "    .agg(['sum']).plot.bar(stacked=True, figsize=(13,6))"
   ]
  },
  {
   "cell_type": "code",
   "execution_count": 37,
   "metadata": {},
   "outputs": [],
   "source": [
    "plt.plot?"
   ]
  },
  {
   "cell_type": "code",
   "execution_count": 39,
   "metadata": {},
   "outputs": [
    {
     "data": {
      "image/png": "[encoded data removed]",
      "text/plain": [
       "<Figure size 720x432 with 1 Axes>"
      ]
     },
     "metadata": {},
     "output_type": "display_data"
    }
   ],
   "source": [
    "# games.scatter(\"API_rating\", \"Global_Sales\")\n",
    "plt.plot(games[games[\"API_rating\"]!=0][\"API_rating\"], games[games[\"API_rating\"]!=0][\"Global_Sales\"], 'o', color='black')\n",
    "plt.title(\"CHART 4 - Dispersion Rating x Sales\")\n",
    "plt.rc('figure', figsize=(13, 6))"
   ]
  },
  {
   "cell_type": "code",
   "execution_count": 26,
   "metadata": {},
   "outputs": [],
   "source": [
    "# Correlation matrix - export to Excel\n",
    "games_rating = games[games[\"levenshtein\"]> 0.85]\n",
    "games_rating = games_rating[['NA_Sales','EU_Sales','JP_Sales','Other_Sales','Global_Sales','API_playtime','API_rating','API_n_platforms']]\n",
    "games_rating.corr(method=\"pearson\").to_excel(\"corr2.xlsx\")"
   ]
  },
  {
   "cell_type": "code",
   "execution_count": 122,
   "metadata": {
    "scrolled": true
   },
   "outputs": [
    {
     "data": {
      "text/plain": [
       "Text(0.5, 1.0, 'CHART 3 - Sales by rating')"
      ]
     },
     "execution_count": 122,
     "metadata": {},
     "output_type": "execute_result"
    },
    {
     "data": {
      "image/png": "[encoded data removed]",
      "text/plain": [
       "<Figure size 936x432 with 1 Axes>"
      ]
     },
     "metadata": {},
     "output_type": "display_data"
    }
   ],
   "source": [
    "import seaborn as sns\n",
    "import matplotlib.pyplot as plt\n",
    "plt.rc('figure', figsize=(10, 6))\n",
    "np.set_printoptions(precision=4)\n",
    "pd.options.display.max_rows = 10\n",
    "plt.style.use(style='ggplot')\n",
    "\n",
    "plt.rc('figure', figsize=(13, 6))\n",
    "sns.set(style=\"whitegrid\")\n",
    "games_rating[\"API_rating\"] = games_rating[\"API_rating\"].fillna(0)\n",
    "games_rating[\"API_rating_int\"] = games_rating[\"API_rating\"].astype('int')\n",
    "ax = sns.barplot(x=games_rating[\"API_rating_int\"], y=games_rating[\"Global_Sales\"], data=games_rating)\n",
    "ax.set_title(\"CHART 3 - Sales by rating\")"
   ]
  }
 ],
 "metadata": {
  "kernelspec": {
   "display_name": "Python 3",
   "language": "python",
   "name": "python3"
  },
  "language_info": {
   "codemirror_mode": {
    "name": "ipython",
    "version": 3
   },
   "file_extension": ".py",
   "mimetype": "text/x-python",
   "name": "python",
   "nbconvert_exporter": "python",
   "pygments_lexer": "ipython3",
   "version": "3.7.4"
  }
 },
 "nbformat": 4,
 "nbformat_minor": 2
}
